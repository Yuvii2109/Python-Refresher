{
 "cells": [
  {
   "cell_type": "markdown",
   "id": "34325556-9d11-437f-aee2-4dd38c008447",
   "metadata": {},
   "source": [
    "# Python json Module - Working with JSON Data"
   ]
  },
  {
   "cell_type": "markdown",
   "id": "2cb27206-6c3e-4731-b732-59bfb65af2fc",
   "metadata": {},
   "source": [
    "JSON(JavaScript Object Notation) is a lightweight data format used for data exchange between servers and applications. It is widely used in APIs, web applications and configurations. Python provides the json module to work with JSON data."
   ]
  },
  {
   "cell_type": "markdown",
   "id": "5ae9c272-a7e3-4f0c-ab6b-c5797aeec7a9",
   "metadata": {},
   "source": [
    "## Importing the JSON Module"
   ]
  },
  {
   "cell_type": "markdown",
   "id": "ebd1ebc8-3780-4ea5-8173-039dae9cbac2",
   "metadata": {},
   "source": [
    "&nbsp;&nbsp;&nbsp;&nbsp; import json"
   ]
  },
  {
   "cell_type": "markdown",
   "id": "581db542-0a48-4264-90f8-1bbba09cf3e5",
   "metadata": {},
   "source": [
    "<hr>"
   ]
  },
  {
   "cell_type": "markdown",
   "id": "7b867bd4-ac99-4e8f-8842-1cc38b35fc43",
   "metadata": {},
   "source": [
    "## Converting Python Objects to JSON (Serialization) \n",
    "Serialization (also called encoding or dumping) is converting the python object into a JSON-formatted string. <br>\n",
    "### json.dumps() - Converts python object to json String"
   ]
  },
  {
   "cell_type": "code",
   "execution_count": 11,
   "id": "ea1e59b9-21da-4975-8e9c-47589bc1c5df",
   "metadata": {},
   "outputs": [
    {
     "name": "stdout",
     "output_type": "stream",
     "text": [
      "{\"name\": \"Yuvraj\", \"age\": 21, \"city\": \"New Delhi\"}\n",
      "<class 'str'>\n"
     ]
    }
   ],
   "source": [
    "import json\n",
    "\n",
    "data = {\"name\": \"Yuvraj\", \"age\": 21, \"city\": \"New Delhi\"}\n",
    "\n",
    "json_string = json.dumps(data)\n",
    "print(json_string)\n",
    "print(type(json_string))"
   ]
  },
  {
   "cell_type": "markdown",
   "id": "6d63426f-c579-4ccb-a777-f8fe3f0edea6",
   "metadata": {},
   "source": [
    "### json.dump() - Writes JSON Data to a file"
   ]
  },
  {
   "cell_type": "code",
   "execution_count": 14,
   "id": "74542258-522f-49f4-98a2-06f9d0038cb1",
   "metadata": {},
   "outputs": [],
   "source": [
    "with open(\"data.json\", \"w\") as file:\n",
    "    json.dump(data, file)"
   ]
  },
  {
   "cell_type": "code",
   "execution_count": 17,
   "id": "f4463cb0-12c2-4dd2-bd9d-661841df1c7a",
   "metadata": {},
   "outputs": [
    {
     "name": "stdout",
     "output_type": "stream",
     "text": [
      "{\"name\": \"Yuvraj\", \"age\": 21, \"city\": \"New Delhi\"}\n"
     ]
    }
   ],
   "source": [
    "with open(\"data.json\", \"r\") as f:\n",
    "    content = f.read()\n",
    "    print(content)"
   ]
  },
  {
   "cell_type": "markdown",
   "id": "ce5973aa-5479-4fec-9b8f-87b91c7d4dc9",
   "metadata": {},
   "source": [
    "<hr>"
   ]
  },
  {
   "cell_type": "markdown",
   "id": "cffd953b-6a0c-4734-899f-d258e68c02ca",
   "metadata": {},
   "source": [
    "## Converting JSON to Python Objects (Deserialization)"
   ]
  },
  {
   "cell_type": "markdown",
   "id": "06dcb34c-e82d-4963-af9f-eafc755eaff2",
   "metadata": {},
   "source": [
    "Deserialization (also called decoding or loading) is converting json formatted data into Python Objects"
   ]
  },
  {
   "cell_type": "markdown",
   "id": "5a18176c-1e0c-4f2b-bd12-3ed1065b239f",
   "metadata": {},
   "source": [
    "### json.loads() - Converts JSON string to Python Object"
   ]
  },
  {
   "cell_type": "code",
   "execution_count": 23,
   "id": "aee93565-6211-4de8-a057-53c9c0043b16",
   "metadata": {},
   "outputs": [
    {
     "name": "stdout",
     "output_type": "stream",
     "text": [
      "{'name': 'Yuvraj', 'age': 21, 'city': 'New Delhi'}\n",
      "<class 'dict'>\n"
     ]
    }
   ],
   "source": [
    "json_data = '{\"name\": \"Yuvraj\", \"age\": 21, \"city\": \"New Delhi\"}'\n",
    "\n",
    "python_obj = json.loads(json_data)\n",
    "print(python_obj)\n",
    "print(type(python_obj))"
   ]
  },
  {
   "cell_type": "markdown",
   "id": "dda2e8aa-2b64-48ad-8e65-825c97b85637",
   "metadata": {},
   "source": [
    "### json.load() - Reads JSON Data from a file"
   ]
  },
  {
   "cell_type": "code",
   "execution_count": 26,
   "id": "82a54687-26d0-4c36-831d-27143b3e6f5d",
   "metadata": {},
   "outputs": [
    {
     "name": "stdout",
     "output_type": "stream",
     "text": [
      "{'name': 'Yuvraj', 'age': 21, 'city': 'New Delhi'}\n"
     ]
    }
   ],
   "source": [
    "with open(\"data.json\", \"r\") as file: \n",
    "    python_data = json.load(file)\n",
    "    print(python_data)"
   ]
  },
  {
   "cell_type": "markdown",
   "id": "c990e88b-2cc0-44c0-bee0-7a579cb75831",
   "metadata": {},
   "source": [
    "<hr>"
   ]
  },
  {
   "cell_type": "markdown",
   "id": "e59a6135-79b3-40e4-a351-395bcfdaff9b",
   "metadata": {},
   "source": [
    "## Formatting JSON Output "
   ]
  },
  {
   "cell_type": "markdown",
   "id": "fc7ba7e5-ca3c-41ec-be8d-c174db7f7fe9",
   "metadata": {},
   "source": [
    "You can format JSON for better readability using indentation."
   ]
  },
  {
   "cell_type": "code",
   "execution_count": 32,
   "id": "0a477011-5bf3-42bc-8b5e-dd4d6b2fb85e",
   "metadata": {},
   "outputs": [
    {
     "name": "stdout",
     "output_type": "stream",
     "text": [
      "{\n",
      "    \"name\": \"Yuvraj\",\n",
      "    \"age\": 21,\n",
      "    \"city\": \"New Delhi\"\n",
      "}\n"
     ]
    }
   ],
   "source": [
    "formatted_json = json.dumps(data, indent=4)\n",
    "print(formatted_json)"
   ]
  }
 ],
 "metadata": {
  "kernelspec": {
   "display_name": "Python [conda env:base] *",
   "language": "python",
   "name": "conda-base-py"
  },
  "language_info": {
   "codemirror_mode": {
    "name": "ipython",
    "version": 3
   },
   "file_extension": ".py",
   "mimetype": "text/x-python",
   "name": "python",
   "nbconvert_exporter": "python",
   "pygments_lexer": "ipython3",
   "version": "3.12.7"
  }
 },
 "nbformat": 4,
 "nbformat_minor": 5
}
