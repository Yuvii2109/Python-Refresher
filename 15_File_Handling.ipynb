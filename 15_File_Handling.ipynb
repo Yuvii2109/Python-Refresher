{
 "cells": [
  {
   "cell_type": "markdown",
   "id": "6a732758-337f-4dbb-9d1a-a3b7a4abc912",
   "metadata": {},
   "source": [
    "# File Handling In Python"
   ]
  },
  {
   "cell_type": "markdown",
   "id": "04c4c52d-0c42-4326-8e72-7e8a9a8161ab",
   "metadata": {},
   "source": [
    "Allows python programs to read, write and manipulate files stores on disk. Python provides built-in functions for working with files."
   ]
  },
  {
   "cell_type": "markdown",
   "id": "bf1a8071-0e97-4467-918b-660652783e1b",
   "metadata": {},
   "source": [
    "## Opening A File "
   ]
  },
  {
   "cell_type": "markdown",
   "id": "1e50d254-48df-4904-8bc2-7e17b8e800d5",
   "metadata": {},
   "source": [
    "Python uses open() function to open a file."
   ]
  },
  {
   "cell_type": "markdown",
   "id": "78b63211-88d2-4f15-b2c9-878053a0be36",
   "metadata": {},
   "source": [
    "### Syntax -> file = open(\"filename\", mode)"
   ]
  },
  {
   "cell_type": "markdown",
   "id": "a7863232-61cc-43ef-8013-2553b635f43c",
   "metadata": {},
   "source": [
    "- filename -> The name of the file to open\n",
    "- mode -> Specifies how the file should be opened"
   ]
  },
  {
   "cell_type": "markdown",
   "id": "71b01895-4cc5-40f4-88e8-bce0ec969110",
   "metadata": {},
   "source": [
    "### File Modes"
   ]
  },
  {
   "cell_type": "markdown",
   "id": "57450e54-a19c-4483-a0dd-09b566743866",
   "metadata": {},
   "source": [
    "- 'r' -> Read (default) - Opens files for reading, raises an error if the file doesn't exist.\n",
    "- 'w' -> Write - Opens files for writing, creates a new file if not found, and overwrites existing content.\n",
    "- 'a' -> Append - Opens files for writing, creates a new file if not found, and appends content instead of overwriting.\n",
    "- 'x' -> Create - Creates a new file, but fails if the file already exists.\n",
    "- 'b' -> Binary Mode - Used with rb, wb, ab, etc. for working with non-text files(eg - images, PDFs, etc.).\n",
    "- 't' -> Text Mode - Used for text files(eg - rt, wt, etc.)"
   ]
  },
  {
   "cell_type": "markdown",
   "id": "16d816e6-39d6-406f-afc1-21934e71ae25",
   "metadata": {},
   "source": [
    "<hr>"
   ]
  },
  {
   "cell_type": "markdown",
   "id": "a81e96a9-c6e1-4107-bcfd-bac9a23a1321",
   "metadata": {},
   "source": [
    "## Reading Files"
   ]
  },
  {
   "cell_type": "markdown",
   "id": "4ddaeed0-47a9-4dd4-ac98-6418d42c28d8",
   "metadata": {},
   "source": [
    "### Using read() - Read entire file\n",
    "\n",
    "&nbsp;&nbsp;&nbsp;&nbsp; file = open(\"example.txt\", \"r\") <br>\n",
    "&nbsp;&nbsp;&nbsp;&nbsp; content = file.read() <br>\n",
    "&nbsp;&nbsp;&nbsp;&nbsp; print(content) <br>\n",
    "&nbsp;&nbsp;&nbsp;&nbsp; file.close() # Always close the file after use"
   ]
  },
  {
   "cell_type": "markdown",
   "id": "dde14060-c08e-49a8-b2c0-90ad153ee350",
   "metadata": {},
   "source": [
    "### Using readline() - Read line by line\n",
    "\n",
    "&nbsp;&nbsp;&nbsp;&nbsp; file = open(\"example.txt\", \"r\") <br>\n",
    "&nbsp;&nbsp;&nbsp;&nbsp; content = file.readline() # Reads first line <br>\n",
    "&nbsp;&nbsp;&nbsp;&nbsp; print(line1) <br>\n",
    "&nbsp;&nbsp;&nbsp;&nbsp; file.close() # Always close the file after use"
   ]
  },
  {
   "cell_type": "markdown",
   "id": "c7e07a55-9ba8-4b31-9389-14ddb8ae0c6c",
   "metadata": {},
   "source": [
    "### Using readlines() - Read all lines as List\n",
    "\n",
    "&nbsp;&nbsp;&nbsp;&nbsp; file = open(\"example.txt\", \"r\") <br>\n",
    "&nbsp;&nbsp;&nbsp;&nbsp; lines = file.readlines() # Reads all lines into a list <br>\n",
    "&nbsp;&nbsp;&nbsp;&nbsp; print(lines) <br>\n",
    "&nbsp;&nbsp;&nbsp;&nbsp; file.close() # Always close the file after use"
   ]
  },
  {
   "cell_type": "markdown",
   "id": "5a2566cf-fb75-4d8f-8f4c-3dc8e0ad6278",
   "metadata": {},
   "source": [
    "<hr>"
   ]
  },
  {
   "cell_type": "markdown",
   "id": "b3f7cdb0-d9fa-4a0d-ac4e-b3ba517ee5b9",
   "metadata": {},
   "source": [
    "## Writing to Files"
   ]
  },
  {
   "cell_type": "markdown",
   "id": "bc42d5a3-ef37-4ce0-a34b-2e806a31ecef",
   "metadata": {},
   "source": [
    "### Using write() - Overwrites Existing Content\n",
    "\n",
    "&nbsp;&nbsp;&nbsp;&nbsp; file = open(\"example.txt\", \"w\") # Opens files in write mode <br>\n",
    "&nbsp;&nbsp;&nbsp;&nbsp; file.write(\"Hello World!\") # Writes Content <br>\n",
    "&nbsp;&nbsp;&nbsp;&nbsp; file.close() # Always close the file after use"
   ]
  },
  {
   "cell_type": "markdown",
   "id": "450c114c-0149-4150-99f3-4ad54eb6b386",
   "metadata": {},
   "source": [
    "### Using writelines() - Write multiple lines\n",
    "\n",
    "&nbsp;&nbsp;&nbsp;&nbsp; lines = [\"Hello\\n\", \"My Name is\\n\", \"Yuvraj Sachdeva\\n\"] <br>\n",
    "&nbsp;&nbsp;&nbsp;&nbsp; file = open(\"example.txt\", \"w\") <br>\n",
    "&nbsp;&nbsp;&nbsp;&nbsp; file.writelines(lines) # Writes multiple lines <br>\n",
    "&nbsp;&nbsp;&nbsp;&nbsp; file.close() # Always close the file after use"
   ]
  },
  {
   "cell_type": "markdown",
   "id": "6b4aba38-3a20-479f-a7de-4437e271f88d",
   "metadata": {},
   "source": [
    "<hr>"
   ]
  },
  {
   "cell_type": "markdown",
   "id": "cab9e19f-3a9f-44c2-bbc1-e361d139037f",
   "metadata": {},
   "source": [
    "## Appending to a File"
   ]
  },
  {
   "cell_type": "markdown",
   "id": "877934bb-b087-4835-ac46-f5b0bd8e5683",
   "metadata": {},
   "source": [
    "Used to add content to an existing file without erasing previous data <br><br>\n",
    "&nbsp;&nbsp;&nbsp;&nbsp; file = open(\"example.txt\", \"a\") <br>\n",
    "&nbsp;&nbsp;&nbsp;&nbsp; file.write(\"\\nThis is an appended line\") <br>\n",
    "&nbsp;&nbsp;&nbsp;&nbsp; file.close()"
   ]
  },
  {
   "cell_type": "markdown",
   "id": "58257705-11f1-44d3-bf85-3e7c8c8155f3",
   "metadata": {},
   "source": [
    "<hr>"
   ]
  },
  {
   "cell_type": "markdown",
   "id": "8b2d3a04-6afa-47b6-a856-82976368853f",
   "metadata": {},
   "source": [
    "## Using with Statement (Best Practice)"
   ]
  },
  {
   "cell_type": "markdown",
   "id": "40f79a25-439c-4b49-b285-64419e578fe6",
   "metadata": {},
   "source": [
    "Using with open() ensures the file is automatically closed after execution <br><br>\n",
    "&nbsp;&nbsp;&nbsp;&nbsp; with open(\"example.txt\", \"r\") as file: <br>\n",
    "&nbsp;&nbsp;&nbsp;&nbsp;&nbsp;&nbsp;&nbsp;&nbsp; content = file.read() <br>\n",
    "&nbsp;&nbsp;&nbsp;&nbsp;&nbsp;&nbsp;&nbsp;&nbsp; print(content) # No need to manually close the file"
   ]
  },
  {
   "cell_type": "markdown",
   "id": "859f3da1-d55c-4865-8699-950f7f0a7bdb",
   "metadata": {},
   "source": [
    "<hr>"
   ]
  },
  {
   "cell_type": "markdown",
   "id": "1d4e3894-03c6-4674-8ab4-591fe1c7d5b0",
   "metadata": {},
   "source": [
    "## Checking if a file exists"
   ]
  },
  {
   "cell_type": "markdown",
   "id": "f61d1230-0fb6-4bc5-9b4c-bcaf438622e3",
   "metadata": {},
   "source": [
    "Use the os module to check if a file exists before opening it. <br><br>\n",
    "&nbsp;&nbsp;&nbsp;&nbsp; import os <br>\n",
    "&nbsp;&nbsp;&nbsp;&nbsp; if os.path.exists(\"example.txt\"): <br>\n",
    "&nbsp;&nbsp;&nbsp;&nbsp;&nbsp;&nbsp;&nbsp;&nbsp; print(\"File exists!\") <br>\n",
    "&nbsp;&nbsp;&nbsp;&nbsp; else: <br>\n",
    "&nbsp;&nbsp;&nbsp;&nbsp;&nbsp;&nbsp;&nbsp;&nbsp; print(\"File not found!\")"
   ]
  },
  {
   "cell_type": "markdown",
   "id": "a9def62c-189f-411e-9673-d14b60fead77",
   "metadata": {},
   "source": [
    "<hr>"
   ]
  },
  {
   "cell_type": "markdown",
   "id": "460d516a-b3a4-4786-9a72-58c242d80092",
   "metadata": {},
   "source": [
    "## Deleting a File "
   ]
  },
  {
   "cell_type": "markdown",
   "id": "1cf686eb-a460-40e4-a8f2-019ae5e7c170",
   "metadata": {},
   "source": [
    "Use the os module delete a file. <br><br>\n",
    "&nbsp;&nbsp;&nbsp;&nbsp; import os <br>\n",
    "&nbsp;&nbsp;&nbsp;&nbsp; if os.path.exists(\"example.txt\"): <br>\n",
    "&nbsp;&nbsp;&nbsp;&nbsp;&nbsp;&nbsp;&nbsp;&nbsp; os.remove(\"example.txt\") <br>\n",
    "&nbsp;&nbsp;&nbsp;&nbsp;&nbsp;&nbsp;&nbsp;&nbsp; print(\"File Deleted.\") <br>\n",
    "&nbsp;&nbsp;&nbsp;&nbsp; else: <br>\n",
    "&nbsp;&nbsp;&nbsp;&nbsp;&nbsp;&nbsp;&nbsp;&nbsp; print(\"File does not exist\")"
   ]
  },
  {
   "cell_type": "markdown",
   "id": "bca1f317-ce54-4867-b596-0249ae002a9b",
   "metadata": {},
   "source": [
    "<hr>"
   ]
  },
  {
   "cell_type": "markdown",
   "id": "cbf069dc-b901-4c38-8080-71a7c5dd2de0",
   "metadata": {},
   "source": [
    "## Working with Binary Files"
   ]
  },
  {
   "cell_type": "markdown",
   "id": "8c672190-acbb-46f6-93ff-db2a7dd2847a",
   "metadata": {},
   "source": [
    "Binary files (.jpg, .png, .pdf, etc.) should be opened in binary mode ('b')."
   ]
  },
  {
   "cell_type": "markdown",
   "id": "dc5d912d-602c-4065-a2d6-9b8d136de8cd",
   "metadata": {},
   "source": [
    "### Reading a Binary File"
   ]
  },
  {
   "cell_type": "markdown",
   "id": "f879a746-7fbf-4313-92b7-0d6c89715519",
   "metadata": {},
   "source": [
    "&nbsp;&nbsp;&nbsp;&nbsp; with open(\"image.jpg\", \"rb\") as file: <br>\n",
    "&nbsp;&nbsp;&nbsp;&nbsp;&nbsp;&nbsp;&nbsp;&nbsp; data = file.read() <br>\n",
    "&nbsp;&nbsp;&nbsp;&nbsp;&nbsp;&nbsp;&nbsp;&nbsp; print(data) # Outputs Binary Content"
   ]
  },
  {
   "cell_type": "markdown",
   "id": "86ba6b8c-c0a9-4fbd-a763-7935ca48a343",
   "metadata": {},
   "source": [
    "### Writing a Binary File"
   ]
  },
  {
   "cell_type": "markdown",
   "id": "66e41712-ad83-44ec-a29b-af733c8ffcf3",
   "metadata": {},
   "source": [
    "&nbsp;&nbsp;&nbsp;&nbsp; with open(\"new_image.jpg\", \"wb\") as file: <br>\n",
    "&nbsp;&nbsp;&nbsp;&nbsp;&nbsp;&nbsp;&nbsp;&nbsp; file.write(data) # Writes Binary content to new File"
   ]
  },
  {
   "cell_type": "markdown",
   "id": "77d137f3-8716-4f8b-9652-442b58620bbb",
   "metadata": {},
   "source": [
    "<hr>"
   ]
  },
  {
   "cell_type": "code",
   "execution_count": 39,
   "id": "9c6c0ba7-9488-4838-a58e-4b884fe6a7da",
   "metadata": {},
   "outputs": [
    {
     "name": "stdout",
     "output_type": "stream",
     "text": [
      "Yuvraj Sachdeva is the best Coder in the world.\n"
     ]
    }
   ],
   "source": [
    "with open(\"text.txt\", \"r\") as file:\n",
    "    content = file.read()\n",
    "    print(content)"
   ]
  },
  {
   "cell_type": "code",
   "execution_count": 40,
   "id": "4fe4a0cd-0216-4dc7-be1c-b5decedc31c1",
   "metadata": {},
   "outputs": [],
   "source": [
    "s = \"\\nHe's currently doing Data Science\"\n",
    "with open(\"text.txt\", \"a\") as f:\n",
    "    f.write(s)"
   ]
  },
  {
   "cell_type": "code",
   "execution_count": 45,
   "id": "15b0724d-9a60-4c87-8fab-e7f359eebe30",
   "metadata": {},
   "outputs": [
    {
     "name": "stdout",
     "output_type": "stream",
     "text": [
      "Yuvraj Sachdeva is the best Coder in the world.\n",
      "He's currently doing Data Science\n"
     ]
    }
   ],
   "source": [
    "with open(\"text.txt\", \"r\") as file:\n",
    "    content = file.read()\n",
    "    print(content)"
   ]
  },
  {
   "cell_type": "code",
   "execution_count": 49,
   "id": "d48b00c2-404b-49fe-9d71-4aa6f5f04ce8",
   "metadata": {},
   "outputs": [],
   "source": [
    "with open(\"Yuvraj.txt\", \"w\") as file: \n",
    "    file.write(\"Yuvraj is doing File Handling using Python.\")"
   ]
  },
  {
   "cell_type": "code",
   "execution_count": 52,
   "id": "78cf182e-87c1-4dde-b5fd-33bb8e1ac11c",
   "metadata": {},
   "outputs": [
    {
     "name": "stdout",
     "output_type": "stream",
     "text": [
      "File exists!\n"
     ]
    }
   ],
   "source": [
    "import os\n",
    "if os.path.exists(\"text.txt\"):\n",
    "    print(\"File exists!\")\n",
    "else:\n",
    "    print(\"File not found!\")"
   ]
  }
 ],
 "metadata": {
  "kernelspec": {
   "display_name": "Python [conda env:base] *",
   "language": "python",
   "name": "conda-base-py"
  },
  "language_info": {
   "codemirror_mode": {
    "name": "ipython",
    "version": 3
   },
   "file_extension": ".py",
   "mimetype": "text/x-python",
   "name": "python",
   "nbconvert_exporter": "python",
   "pygments_lexer": "ipython3",
   "version": "3.12.7"
  }
 },
 "nbformat": 4,
 "nbformat_minor": 5
}
