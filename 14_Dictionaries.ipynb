{
 "cells": [
  {
   "cell_type": "markdown",
   "id": "1bbe88dc-63b3-4a7a-a4c7-47a328f6b1bc",
   "metadata": {},
   "source": [
    "# Python Dictionaries and Dictionary Methods"
   ]
  },
  {
   "cell_type": "markdown",
   "id": "c5395d7b-c3ff-41ee-a21a-cef35a3430a3",
   "metadata": {},
   "source": [
    "A Dictionary in python is an unordered (3.7 onwards ordered hoti hai and usse pehle unordered), mutable and key-value pair collection. It allows efficient data retrieval and modification."
   ]
  },
  {
   "cell_type": "markdown",
   "id": "dc089773-0736-4b4a-a156-dbbfda8c32a3",
   "metadata": {},
   "source": [
    "## Creating a Dictionary"
   ]
  },
  {
   "cell_type": "code",
   "execution_count": 4,
   "id": "ceb9a7f9-0e1d-4151-becd-257dc4c52cc4",
   "metadata": {},
   "outputs": [
    {
     "name": "stdout",
     "output_type": "stream",
     "text": [
      "{}\n",
      "{'name': 'Yuvraj Sachdeva', 'age': 21, 'grade': 'O'}\n",
      "{'name': 'Yuvraj Sachdeva', 'age': 21, 'city': 'New Delhi'}\n"
     ]
    }
   ],
   "source": [
    "empty_dict = {} # Empty Dictionary\n",
    "student = {\n",
    "    \"name\" : \"Yuvraj Sachdeva\",\n",
    "    \"age\" : 21,\n",
    "    \"grade\" : \"O\"\n",
    "} # Dictionary with key-value pairs\n",
    "person = dict(name = \"Yuvraj Sachdeva\", age = 21, city = \"New Delhi\") # Using dict() constructor\n",
    "print(empty_dict)\n",
    "print(student)\n",
    "print(person)"
   ]
  },
  {
   "cell_type": "markdown",
   "id": "77820b74-e342-437a-bd3e-b5c18b21e925",
   "metadata": {},
   "source": [
    "## Accessing Dictionary Elements"
   ]
  },
  {
   "cell_type": "code",
   "execution_count": 6,
   "id": "d89d32a3-e850-46eb-a33b-9831b3d679ee",
   "metadata": {},
   "outputs": [
    {
     "name": "stdout",
     "output_type": "stream",
     "text": [
      "Yuvraj Sachdeva\n",
      "21\n",
      "Not Found\n"
     ]
    }
   ],
   "source": [
    "print(student[\"name\"]) # Using keys\n",
    "\n",
    "#Using get() -> Avoids KeyError if key doesn't exist\n",
    "print(student.get(\"age\"))\n",
    "print(student.get(\"college\", \"Not Found\")) # Setting default value"
   ]
  },
  {
   "cell_type": "markdown",
   "id": "c14418a7-028b-4126-a7d8-5ed17c78946d",
   "metadata": {},
   "source": [
    "## Dictionary Methods"
   ]
  },
  {
   "cell_type": "code",
   "execution_count": 8,
   "id": "250914c7-a705-4ec7-925f-ea9e5ad549fa",
   "metadata": {},
   "outputs": [
    {
     "name": "stdout",
     "output_type": "stream",
     "text": [
      "dict_keys(['name', 'age', 'grade'])\n",
      "dict_values(['Yuvraj Sachdeva', 21, 'O'])\n",
      "dict_items([('name', 'Yuvraj Sachdeva'), ('age', 21), ('grade', 'O')])\n",
      "{'name': 'Yuvraj Sachdeva', 'age': 21, 'grade': 'O', 'junior': 'Rajvir Sachdeva', 'age_of_junior': 11, 'grade_of_junior': 'O'}\n",
      "Yuvraj Sachdeva\n",
      "{'age': 21, 'city': 'New Delhi'}\n",
      "('city', 'New Delhi')\n",
      "{'age': 21}\n",
      "Unknown\n",
      "{'name': 'Yuvraj Sachdeva', 'age': 21, 'grade': 'O', 'junior': 'Rajvir Sachdeva', 'age_of_junior': 11, 'grade_of_junior': 'O', 'city': 'Unknown'}\n",
      "{'name': 'Yuvraj Sachdeva', 'age': 21, 'grade': 'O', 'junior': 'Rajvir Sachdeva', 'age_of_junior': 11, 'grade_of_junior': 'O', 'city': 'Unknown'}\n",
      "{}\n"
     ]
    }
   ],
   "source": [
    "print(student.keys()) # Returns all keys in the Dictionary\n",
    "print(student.values()) # Returns all values in the Dictionary\n",
    "print(student.items()) # Returns key-value pairs as tuples\n",
    "# get(key, default) -> Returns value for key or default is key not found\n",
    "\n",
    "student_new = {\n",
    "    \"junior\" : \"Rajvir Sachdeva\",\n",
    "    \"age_of_junior\" : 11,\n",
    "    \"grade_of_junior\" : \"O\"\n",
    "}\n",
    "student.update(student_new) # Merge student_new into student\n",
    "print(student)\n",
    "\n",
    "a = person.pop(\"name\", \"Not Found\") # Removes key and returns its value or default if key not found\n",
    "print(a)\n",
    "print(person)\n",
    "\n",
    "b = person.popitem() # Removes and returns the last inserted key-value pair\n",
    "print(b)\n",
    "print(person)\n",
    "\n",
    "c = student.setdefault(\"city\", \"Unknown\") # Returns value for key, else sets it to default\n",
    "print(c)\n",
    "print(student)\n",
    "\n",
    "new_dict = student.copy() # Creates a shallow copy of the dictionary\n",
    "print(new_dict)\n",
    "\n",
    "new_dict.clear() # Removes all items from the Dictionary\n",
    "print(new_dict)"
   ]
  },
  {
   "cell_type": "code",
   "execution_count": 13,
   "id": "ec24d37a-b9bd-49d3-918a-60e6f6035a7d",
   "metadata": {},
   "outputs": [
    {
     "name": "stdout",
     "output_type": "stream",
     "text": [
      "name :  Yuvraj Sachdeva\n",
      "age :  21\n",
      "grade :  O\n",
      "junior :  Rajvir Sachdeva\n",
      "age_of_junior :  11\n",
      "grade_of_junior :  O\n",
      "city :  Unknown\n"
     ]
    }
   ],
   "source": [
    "for key, value in student.items():\n",
    "    print(key, \": \", value)"
   ]
  },
  {
   "cell_type": "markdown",
   "id": "0fd2c93b-4c03-4041-b0ee-45676331e9c0",
   "metadata": {},
   "source": [
    "## Dictionary Comprehension"
   ]
  },
  {
   "cell_type": "code",
   "execution_count": 20,
   "id": "e7bd219c-496d-482a-bf46-62d469b335ac",
   "metadata": {},
   "outputs": [
    {
     "name": "stdout",
     "output_type": "stream",
     "text": [
      "1 :  1\n",
      "2 :  4\n",
      "3 :  9\n",
      "4 :  16\n",
      "5 :  25\n"
     ]
    }
   ],
   "source": [
    "square = {x: x**2 for x in range(1,6)}\n",
    "for key, value in square.items():\n",
    "    print(key, \": \", value)"
   ]
  },
  {
   "cell_type": "code",
   "execution_count": 22,
   "id": "353af225-ed23-47cc-8340-899dd798a08a",
   "metadata": {},
   "outputs": [
    {
     "data": {
      "text/plain": [
       "dict"
      ]
     },
     "execution_count": 22,
     "metadata": {},
     "output_type": "execute_result"
    }
   ],
   "source": [
    "type(square)"
   ]
  }
 ],
 "metadata": {
  "kernelspec": {
   "display_name": "Python [conda env:base] *",
   "language": "python",
   "name": "conda-base-py"
  },
  "language_info": {
   "codemirror_mode": {
    "name": "ipython",
    "version": 3
   },
   "file_extension": ".py",
   "mimetype": "text/x-python",
   "name": "python",
   "nbconvert_exporter": "python",
   "pygments_lexer": "ipython3",
   "version": "3.12.7"
  }
 },
 "nbformat": 4,
 "nbformat_minor": 5
}
