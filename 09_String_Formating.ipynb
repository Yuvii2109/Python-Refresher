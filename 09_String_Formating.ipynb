{
 "cells": [
  {
   "cell_type": "markdown",
   "id": "3dce8fce-8aba-4b5b-93e1-5e7a0acfae84",
   "metadata": {},
   "source": [
    "# String Formatting in Python"
   ]
  },
  {
   "cell_type": "markdown",
   "id": "79469835-4d3f-4ff9-b608-07beff2e85a7",
   "metadata": {},
   "source": [
    "String -> Immutable DataType, and so python provides multiple ways to format strings like - format() and f-strings"
   ]
  },
  {
   "cell_type": "markdown",
   "id": "945d5ef4-4964-4796-93e4-bb63040d88e0",
   "metadata": {},
   "source": [
    "## 1. Using format()"
   ]
  },
  {
   "cell_type": "code",
   "execution_count": 8,
   "id": "c79fd361-ff22-4cbf-8fcb-f6a2c6807c5a",
   "metadata": {},
   "outputs": [
    {
     "name": "stdout",
     "output_type": "stream",
     "text": [
      "My name is Yuvraj and I am 20 years old\n"
     ]
    }
   ],
   "source": [
    "name = \"Yuvraj\"\n",
    "age = 20\n",
    "print(\"My name is {} and I am {} years old\".format(name, age))"
   ]
  },
  {
   "cell_type": "code",
   "execution_count": 11,
   "id": "954f5813-4cc9-4818-8d55-aee5e5644283",
   "metadata": {},
   "outputs": [
    {
     "name": "stdout",
     "output_type": "stream",
     "text": [
      "Yuvraj is learning Data Science\n",
      "Yuvraj is learning Data Science\n"
     ]
    }
   ],
   "source": [
    "print(\"{0} is learning {1}\".format(\"Yuvraj\", \"Data Science\"))\n",
    "print(\"{name} is learning {what}\".format(name = \"Yuvraj\", what = \"Data Science\"))"
   ]
  },
  {
   "cell_type": "markdown",
   "id": "e4bc3a34-0dad-4d9a-9843-127c59a0027e",
   "metadata": {},
   "source": [
    "## 2. Using f-Strings (Recommended)"
   ]
  },
  {
   "cell_type": "markdown",
   "id": "f33939e0-b19e-44ce-89f3-fa89e347b4a9",
   "metadata": {},
   "source": [
    "Provides a cleaner and more readable way to format strings"
   ]
  },
  {
   "cell_type": "code",
   "execution_count": 17,
   "id": "5951b855-829c-48b7-9016-4d83d0e9df83",
   "metadata": {},
   "outputs": [
    {
     "name": "stdout",
     "output_type": "stream",
     "text": [
      "Sum of 5 and 10 is 15\n"
     ]
    }
   ],
   "source": [
    "a = 5\n",
    "b = 10\n",
    "print(f\"Sum of {a} and {b} is {a + b}\")"
   ]
  },
  {
   "cell_type": "code",
   "execution_count": 23,
   "id": "c4af29df-94ee-4251-9b0b-329f83ccb8f0",
   "metadata": {},
   "outputs": [
    {
     "name": "stdout",
     "output_type": "stream",
     "text": [
      "pi rounded to 2 decimal places is - 3.14\n"
     ]
    }
   ],
   "source": [
    "pi = 3.14159\n",
    "print(f\"pi rounded to 2 decimal places is - {pi:.2f}\")"
   ]
  },
  {
   "cell_type": "code",
   "execution_count": 27,
   "id": "d5dbb194-e629-4e15-9e41-b002a466d7cc",
   "metadata": {},
   "outputs": [
    {
     "name": "stdout",
     "output_type": "stream",
     "text": [
      "Python    \n",
      "    Python\n",
      "  Python  \n"
     ]
    }
   ],
   "source": [
    "print(f\"{'Python':<10}\") # Left-align kardo in a total character width of 10\n",
    "print(f\"{'Python':>10}\") # Right-align kardo in a total character width of 10\n",
    "print(f\"{'Python':^10}\") # Center-align kardo in a total character width of 10"
   ]
  }
 ],
 "metadata": {
  "kernelspec": {
   "display_name": "Python [conda env:base] *",
   "language": "python",
   "name": "conda-base-py"
  },
  "language_info": {
   "codemirror_mode": {
    "name": "ipython",
    "version": 3
   },
   "file_extension": ".py",
   "mimetype": "text/x-python",
   "name": "python",
   "nbconvert_exporter": "python",
   "pygments_lexer": "ipython3",
   "version": "3.12.7"
  }
 },
 "nbformat": 4,
 "nbformat_minor": 5
}
