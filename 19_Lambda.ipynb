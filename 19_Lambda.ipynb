{
 "cells": [
  {
   "cell_type": "markdown",
   "id": "09a4c1ee-3711-4a6e-b3d1-3bcd4bc5468f",
   "metadata": {},
   "source": [
    "# Lambda Function In Python"
   ]
  },
  {
   "cell_type": "markdown",
   "id": "bc7458e5-c16c-4d3b-820f-9b7d580a60b8",
   "metadata": {},
   "source": [
    "A lambda function in python is anonymous, single-expression function defined using lambda keyword. It is commonly used for short throwaway functions where a full function definition is unnecessary."
   ]
  },
  {
   "cell_type": "markdown",
   "id": "3a124770-cb6e-4f1e-ab6e-d537dc0e671b",
   "metadata": {},
   "source": [
    "<hr>"
   ]
  },
  {
   "cell_type": "markdown",
   "id": "f594ce35-1ba3-4b22-9f28-cf40e705c764",
   "metadata": {},
   "source": [
    "## 1. Syntax of Lambda Functions"
   ]
  },
  {
   "cell_type": "markdown",
   "id": "32b7b6a3-8bf3-48be-83c3-05880d69eb00",
   "metadata": {},
   "source": [
    "lambda arguments: expression <br><br>\n",
    "- lambda -> Keyword to define a lambda function\n",
    "- arguments -> Input parameters (comma-separated)\n",
    "- expression -> The operation performed (must be single expression, not multiple statements)"
   ]
  },
  {
   "cell_type": "markdown",
   "id": "8a151d5d-5250-4507-832a-120146ffa37b",
   "metadata": {},
   "source": [
    "### Example - Simple Lambda Function"
   ]
  },
  {
   "cell_type": "code",
   "execution_count": 11,
   "id": "c66b5ba4-5ca2-4874-9025-8ffd4696de4c",
   "metadata": {},
   "outputs": [
    {
     "name": "stdout",
     "output_type": "stream",
     "text": [
      "25\n"
     ]
    }
   ],
   "source": [
    "square = lambda x: x**2\n",
    "print(square(5))"
   ]
  },
  {
   "cell_type": "markdown",
   "id": "2eab3a5c-ae90-474b-a066-affa3cfaccf1",
   "metadata": {},
   "source": [
    "<hr>"
   ]
  },
  {
   "cell_type": "markdown",
   "id": "ed112b74-cffc-481d-a3da-cd3c4222d9c8",
   "metadata": {},
   "source": [
    "## 2. Using lambda function with map(), filter() and reduce()"
   ]
  },
  {
   "cell_type": "markdown",
   "id": "897bb48d-149f-4b96-8096-01c9a98ca45a",
   "metadata": {},
   "source": [
    "### 2.1 Using map() with lambda"
   ]
  },
  {
   "cell_type": "markdown",
   "id": "509ebc9b-8544-4ef3-a832-cbf8a366e600",
   "metadata": {},
   "source": [
    "Applies a function to each element of an iterable."
   ]
  },
  {
   "cell_type": "code",
   "execution_count": 22,
   "id": "895fc38f-e3b1-41e2-84d8-fd54cc7c9baf",
   "metadata": {},
   "outputs": [
    {
     "name": "stdout",
     "output_type": "stream",
     "text": [
      "[1, 4, 9, 16]\n"
     ]
    }
   ],
   "source": [
    "    numbers = [1, 2, 3, 4]\n",
    "    squared = list(map(lambda x: x**2, numbers))\n",
    "    print(squared)"
   ]
  },
  {
   "cell_type": "markdown",
   "id": "777c22dc-60de-4f39-a2b3-9cd0998a73c7",
   "metadata": {},
   "source": [
    "### 2.2 Using filter() with lambda"
   ]
  },
  {
   "cell_type": "markdown",
   "id": "bee9569c-9260-476b-af94-c079815129ea",
   "metadata": {},
   "source": [
    "Filters elements based on a condition"
   ]
  },
  {
   "cell_type": "code",
   "execution_count": 25,
   "id": "825525fc-9a4e-4231-8511-bda48dfba19a",
   "metadata": {},
   "outputs": [
    {
     "name": "stdout",
     "output_type": "stream",
     "text": [
      "[2, 4, 6]\n"
     ]
    }
   ],
   "source": [
    "    numbers = [1, 2, 3, 4, 5, 6]\n",
    "    evens = list(filter(lambda x: x % 2 == 0, numbers))\n",
    "    print(evens)"
   ]
  },
  {
   "cell_type": "markdown",
   "id": "fc3238fa-d666-4323-87f3-cf0d98134053",
   "metadata": {},
   "source": [
    "### 2.3 Using reduce() with lambda"
   ]
  },
  {
   "cell_type": "markdown",
   "id": "cafe987d-bf1d-4bc5-9622-049cfaa34645",
   "metadata": {},
   "source": [
    "Reduces an iterable to a single value (requires functools.reduce)"
   ]
  },
  {
   "cell_type": "code",
   "execution_count": 30,
   "id": "5eb0d568-9c5a-4393-a8e5-9cfe70dbe366",
   "metadata": {},
   "outputs": [
    {
     "name": "stdout",
     "output_type": "stream",
     "text": [
      "24\n"
     ]
    }
   ],
   "source": [
    "    from functools import reduce\n",
    "\n",
    "    numbers = [1, 2, 3, 4]\n",
    "    product = reduce(lambda x, y: x*y, numbers)\n",
    "    print(product)"
   ]
  },
  {
   "cell_type": "markdown",
   "id": "ba34a012-dffe-4c7f-9197-c5f2a2915af3",
   "metadata": {},
   "source": [
    "<hr>"
   ]
  },
  {
   "cell_type": "markdown",
   "id": "fab84715-dc24-4c0b-8f1f-426ffa08cfe0",
   "metadata": {},
   "source": [
    "## 3. Lambda with multiple Arguments"
   ]
  },
  {
   "cell_type": "markdown",
   "id": "4be7442f-b12a-4dd3-b2c9-66fcbac5ba54",
   "metadata": {},
   "source": [
    "### Example - Adding 2 numbers"
   ]
  },
  {
   "cell_type": "code",
   "execution_count": 38,
   "id": "53d2fa37-fa5e-41ec-ad8b-81bc0ed3538b",
   "metadata": {},
   "outputs": [
    {
     "name": "stdout",
     "output_type": "stream",
     "text": [
      "44\n"
     ]
    }
   ],
   "source": [
    "    add = lambda x, y: x + y\n",
    "    print(add(21, 23))"
   ]
  },
  {
   "cell_type": "markdown",
   "id": "8f328104-0665-4dd1-b3db-4564301c548c",
   "metadata": {},
   "source": [
    "### Example - Finding the Maximum of 2 numbers "
   ]
  },
  {
   "cell_type": "code",
   "execution_count": 41,
   "id": "6320e6f0-322e-4659-8c20-d8589b8b01d1",
   "metadata": {},
   "outputs": [
    {
     "name": "stdout",
     "output_type": "stream",
     "text": [
      "23\n"
     ]
    }
   ],
   "source": [
    "    maximum = lambda x, y: x if x > y else y\n",
    "    print(maximum(21, 23))"
   ]
  },
  {
   "cell_type": "markdown",
   "id": "19b3ae8e-7a87-4d97-b448-f4485b12df14",
   "metadata": {},
   "source": [
    "<hr>"
   ]
  },
  {
   "cell_type": "markdown",
   "id": "56489a29-31f6-47d9-9e68-85dbb788b2c5",
   "metadata": {},
   "source": [
    "## 4. Lambda in Sorting Functions"
   ]
  },
  {
   "cell_type": "markdown",
   "id": "2aef7ec4-a90c-4747-9314-40f34a2188ff",
   "metadata": {},
   "source": [
    "### Sorting a List of Tuples"
   ]
  },
  {
   "cell_type": "code",
   "execution_count": 52,
   "id": "1ff9fe1c-d8d6-4e0c-b53d-84d0127df92d",
   "metadata": {},
   "outputs": [
    {
     "name": "stdout",
     "output_type": "stream",
     "text": [
      "[('Rajvir', 16), ('Yuvraj', 21), ('Kashvi', 23)]\n"
     ]
    }
   ],
   "source": [
    "    students = [(\"Yuvraj\", 21), (\"Rajvir\", 16), (\"Kashvi\", 23)]\n",
    "    students.sort(key = lambda student: student[1]) # Sorting by birthdate\n",
    "    print(students)"
   ]
  },
  {
   "cell_type": "markdown",
   "id": "71b716a2-71b4-4764-8f86-72e6bffe060f",
   "metadata": {},
   "source": [
    "<hr>"
   ]
  },
  {
   "cell_type": "markdown",
   "id": "50f1154b-6b9f-4d44-80b0-0955ea3a3cad",
   "metadata": {},
   "source": [
    "## When to use Lambda Function?"
   ]
  },
  {
   "cell_type": "markdown",
   "id": "122f31ba-64d7-4682-bc3a-83e9a8233a15",
   "metadata": {},
   "source": [
    "- When the function is short and simple\n",
    "- Used temporarily inside another function (eg. map, filter)\n",
    "- To avoid defining the full function with def"
   ]
  },
  {
   "cell_type": "markdown",
   "id": "2095fcc2-669c-4779-8165-0dcc985f7559",
   "metadata": {},
   "source": [
    "## When to not use Lambda Function?"
   ]
  },
  {
   "cell_type": "markdown",
   "id": "b076dc29-1c82-451b-96d4-b7ddf520881a",
   "metadata": {},
   "source": [
    "- When the function is complex (use def for better readability)\n",
    "- When multiple operations/statements are needed"
   ]
  }
 ],
 "metadata": {
  "kernelspec": {
   "display_name": "Python [conda env:base] *",
   "language": "python",
   "name": "conda-base-py"
  },
  "language_info": {
   "codemirror_mode": {
    "name": "ipython",
    "version": 3
   },
   "file_extension": ".py",
   "mimetype": "text/x-python",
   "name": "python",
   "nbconvert_exporter": "python",
   "pygments_lexer": "ipython3",
   "version": "3.12.7"
  }
 },
 "nbformat": 4,
 "nbformat_minor": 5
}
