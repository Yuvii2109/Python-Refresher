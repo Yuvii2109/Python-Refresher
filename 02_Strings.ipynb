{
 "cells": [
  {
   "cell_type": "code",
   "execution_count": 1,
   "id": "58d24c5c-4693-46fb-8bc8-e2c8fdde3dc4",
   "metadata": {},
   "outputs": [],
   "source": [
    "name = \"Yuvraj\""
   ]
  },
  {
   "cell_type": "code",
   "execution_count": 5,
   "id": "d5094474-e358-4e99-a20d-b8befe8863b9",
   "metadata": {},
   "outputs": [
    {
     "data": {
      "text/plain": [
       "'Yuvraj'"
      ]
     },
     "execution_count": 5,
     "metadata": {},
     "output_type": "execute_result"
    }
   ],
   "source": [
    "name"
   ]
  },
  {
   "cell_type": "code",
   "execution_count": 9,
   "id": "b2f0f243-6837-4abd-ac43-45cf3811a85b",
   "metadata": {},
   "outputs": [
    {
     "data": {
      "text/plain": [
       "'YUVRAJ'"
      ]
     },
     "execution_count": 9,
     "metadata": {},
     "output_type": "execute_result"
    }
   ],
   "source": [
    "name.upper()"
   ]
  },
  {
   "cell_type": "code",
   "execution_count": 13,
   "id": "70b051a8-99e7-4c4b-9dad-b6751654a790",
   "metadata": {},
   "outputs": [
    {
     "data": {
      "text/plain": [
       "'yuvraj'"
      ]
     },
     "execution_count": 13,
     "metadata": {},
     "output_type": "execute_result"
    }
   ],
   "source": [
    "name.lower()"
   ]
  },
  {
   "cell_type": "code",
   "execution_count": 17,
   "id": "28d25e48-9a77-45fe-b211-0d09ec96cb9e",
   "metadata": {},
   "outputs": [
    {
     "data": {
      "text/plain": [
       "True"
      ]
     },
     "execution_count": 17,
     "metadata": {},
     "output_type": "execute_result"
    }
   ],
   "source": [
    "name.endswith(\"j\")"
   ]
  },
  {
   "cell_type": "code",
   "execution_count": 21,
   "id": "66af8546-b03e-40ab-86d4-38ee6e4366d3",
   "metadata": {},
   "outputs": [
    {
     "data": {
      "text/plain": [
       "False"
      ]
     },
     "execution_count": 21,
     "metadata": {},
     "output_type": "execute_result"
    }
   ],
   "source": [
    "name.endswith(\"Y\")"
   ]
  },
  {
   "cell_type": "code",
   "execution_count": 25,
   "id": "49bb937f-6c50-4eb7-b957-ebce763789c8",
   "metadata": {},
   "outputs": [
    {
     "data": {
      "text/plain": [
       "1"
      ]
     },
     "execution_count": 25,
     "metadata": {},
     "output_type": "execute_result"
    }
   ],
   "source": [
    "name.count(\"a\")"
   ]
  },
  {
   "cell_type": "code",
   "execution_count": 31,
   "id": "2064653d-c9e4-4e79-a99d-5812939cbc95",
   "metadata": {},
   "outputs": [
    {
     "data": {
      "text/plain": [
       "'Yuvra'"
      ]
     },
     "execution_count": 31,
     "metadata": {},
     "output_type": "execute_result"
    }
   ],
   "source": [
    "name[0:5] # Slicing of a string from 0th index till (n-1)th index"
   ]
  },
  {
   "cell_type": "code",
   "execution_count": 35,
   "id": "ee3f4e4f-071f-49b0-9f5a-208b68901be2",
   "metadata": {},
   "outputs": [
    {
     "data": {
      "text/plain": [
       "'uvra'"
      ]
     },
     "execution_count": 35,
     "metadata": {},
     "output_type": "execute_result"
    }
   ],
   "source": [
    "name[1:-1] # Concept of negative indices"
   ]
  },
  {
   "cell_type": "code",
   "execution_count": 39,
   "id": "ffecb40a-b95d-4e35-bc54-3613de2f258a",
   "metadata": {},
   "outputs": [],
   "source": [
    "# Negative index ko positive main convert krne ke liye jo thumbrule use hota hai vo yeh hai ki \n",
    "# Uss negative index main string length ko add kardenge toh kaam ban jayega "
   ]
  },
  {
   "cell_type": "code",
   "execution_count": 43,
   "id": "ac74b0f1-f3fe-4571-a18f-f2e97e7b2cc7",
   "metadata": {},
   "outputs": [
    {
     "name": "stdout",
     "output_type": "stream",
     "text": [
      "6\n"
     ]
    }
   ],
   "source": [
    "print(len(name))"
   ]
  },
  {
   "cell_type": "code",
   "execution_count": 47,
   "id": "0a9bf373-24cc-4bd8-8bec-3e164b8f7fa4",
   "metadata": {},
   "outputs": [
    {
     "data": {
      "text/plain": [
       "'uvra'"
      ]
     },
     "execution_count": 47,
     "metadata": {},
     "output_type": "execute_result"
    }
   ],
   "source": [
    "name[1:5] # name[1:(-1+6)] = name[1:5] = name[1:-1]"
   ]
  },
  {
   "cell_type": "code",
   "execution_count": 51,
   "id": "474465c4-a8fd-4c4b-a0a7-fd85c90d67e2",
   "metadata": {},
   "outputs": [],
   "source": [
    "# Ek or tareeka hai ki negative index main add karne ki jagah hum positive index main subtract bhi kar skte hain"
   ]
  },
  {
   "cell_type": "code",
   "execution_count": 55,
   "id": "12d78b0a-795b-4400-b7b0-7eb54be9a6bb",
   "metadata": {},
   "outputs": [
    {
     "data": {
      "text/plain": [
       "'uvra'"
      ]
     },
     "execution_count": 55,
     "metadata": {},
     "output_type": "execute_result"
    }
   ],
   "source": [
    "name[-5:-1] "
   ]
  }
 ],
 "metadata": {
  "kernelspec": {
   "display_name": "Python [conda env:base] *",
   "language": "python",
   "name": "conda-base-py"
  },
  "language_info": {
   "codemirror_mode": {
    "name": "ipython",
    "version": 3
   },
   "file_extension": ".py",
   "mimetype": "text/x-python",
   "name": "python",
   "nbconvert_exporter": "python",
   "pygments_lexer": "ipython3",
   "version": "3.12.7"
  }
 },
 "nbformat": 4,
 "nbformat_minor": 5
}
