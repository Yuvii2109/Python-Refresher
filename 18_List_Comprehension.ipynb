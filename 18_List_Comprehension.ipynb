{
 "cells": [
  {
   "cell_type": "markdown",
   "id": "976e070a-525f-4b7f-b5b8-de744b726f9d",
   "metadata": {},
   "source": [
    "# List Comprehension In Python"
   ]
  },
  {
   "cell_type": "markdown",
   "id": "9b3447fd-0c86-4009-b23b-b8b047ab1c9b",
   "metadata": {},
   "source": [
    "It is a concise and efficient way to create to create Lists in python. It allows you to generate Lists in a single line of code, making your code more readable and Pythonic."
   ]
  },
  {
   "cell_type": "markdown",
   "id": "b35d5c5c-d80a-4e32-a0e1-ca0db9515f0e",
   "metadata": {},
   "source": [
    "<hr>"
   ]
  },
  {
   "cell_type": "markdown",
   "id": "0473cc43-3ffc-4854-a973-e9024daccbe0",
   "metadata": {},
   "source": [
    "## 1. Basic Syntax"
   ]
  },
  {
   "cell_type": "markdown",
   "id": "f6a7f20b-6d72-414e-b3ab-5debd8474638",
   "metadata": {},
   "source": [
    "[expression for item in iterable]\n",
    "\n",
    "- expression -> The operation to perform on each item.\n",
    "- item -> The variable representing each item in the iterable.\n",
    "- iterable -> The data structure being iterated over (List, range, etc.)\n",
    "\n",
    "### Example - Creating a list of squares"
   ]
  },
  {
   "cell_type": "code",
   "execution_count": 25,
   "id": "a4594ed2-cd85-4696-972b-e5dda90b0eb0",
   "metadata": {},
   "outputs": [
    {
     "name": "stdout",
     "output_type": "stream",
     "text": [
      "[1, 4, 9, 16, 25]\n"
     ]
    }
   ],
   "source": [
    "squares = [x**2 for x in range(1, 6)]\n",
    "print(squares)"
   ]
  },
  {
   "cell_type": "markdown",
   "id": "a47e65a4-53da-4e9f-80ca-8075a2071ba7",
   "metadata": {},
   "source": [
    "<hr>"
   ]
  },
  {
   "cell_type": "markdown",
   "id": "7a33e4cf-18fa-401e-9edc-caf6d5a56400",
   "metadata": {},
   "source": [
    "## 2. Using if condition in List Comprehension"
   ]
  },
  {
   "cell_type": "markdown",
   "id": "2004ce3e-5bd6-474a-9d9d-7079726e4c56",
   "metadata": {},
   "source": [
    "### Example - Filtering even numbers "
   ]
  },
  {
   "cell_type": "code",
   "execution_count": 30,
   "id": "017dafb1-9fce-4525-a37a-648c355fa714",
   "metadata": {},
   "outputs": [
    {
     "name": "stdout",
     "output_type": "stream",
     "text": [
      "[2, 4, 6, 8, 10]\n"
     ]
    }
   ],
   "source": [
    "evens = [x for x in range(1, 11) if x % 2 == 0]\n",
    "print(evens)"
   ]
  },
  {
   "cell_type": "markdown",
   "id": "c2ba74ed-a290-4b05-98a0-210694b7ee27",
   "metadata": {},
   "source": [
    "<hr>"
   ]
  },
  {
   "cell_type": "markdown",
   "id": "670bfdac-325a-4544-88a8-31c70231b9eb",
   "metadata": {},
   "source": [
    "## 3. Using if-else condition in List Comprehension"
   ]
  },
  {
   "cell_type": "markdown",
   "id": "02b10db7-6f33-47c4-a17a-b06b6d520d76",
   "metadata": {},
   "source": [
    "### Example - Replacing even number with \"Even\" and odd numbers with \"Odd\""
   ]
  },
  {
   "cell_type": "code",
   "execution_count": 35,
   "id": "def569ad-117c-4980-92b3-c1cbe8d8e9da",
   "metadata": {},
   "outputs": [
    {
     "name": "stdout",
     "output_type": "stream",
     "text": [
      "['Odd', 'Even', 'Odd', 'Even', 'Odd', 'Even', 'Odd', 'Even', 'Odd', 'Even']\n"
     ]
    }
   ],
   "source": [
    "numbers = [\"Even\" if x % 2 == 0 else \"Odd\" for x in range(1, 11)]\n",
    "print(numbers)"
   ]
  },
  {
   "cell_type": "markdown",
   "id": "f7a988ba-9cdb-45d0-9d3d-a3fb0ace0988",
   "metadata": {},
   "source": [
    "<hr>"
   ]
  },
  {
   "cell_type": "markdown",
   "id": "5c9c0035-4d7c-4de3-9c57-f0af61c89847",
   "metadata": {},
   "source": [
    "## 4. Nested Loops in List Comprehension"
   ]
  },
  {
   "cell_type": "markdown",
   "id": "5ce90f28-7922-4715-a906-e9be005d8854",
   "metadata": {},
   "source": [
    "### Example - Creating pairs for two Lists"
   ]
  },
  {
   "cell_type": "code",
   "execution_count": 40,
   "id": "108ee4e7-4313-446f-87f1-b6544dada225",
   "metadata": {},
   "outputs": [
    {
     "name": "stdout",
     "output_type": "stream",
     "text": [
      "[(0, 0), (0, 1), (0, 2), (1, 0), (1, 1), (1, 2)]\n"
     ]
    }
   ],
   "source": [
    "pairs = [(x, y) for x in range(2) for y in range(3)]\n",
    "print(pairs)"
   ]
  },
  {
   "cell_type": "markdown",
   "id": "558efed5-5265-499d-b722-b8a279c7ce1d",
   "metadata": {},
   "source": [
    "<hr>"
   ]
  },
  {
   "cell_type": "markdown",
   "id": "89d8c742-b65b-4102-b427-50befb9c497a",
   "metadata": {},
   "source": [
    "## 5. List Comprehension with Functions"
   ]
  },
  {
   "cell_type": "markdown",
   "id": "a8a0af3a-ddb1-4874-9708-6aa974d9ae86",
   "metadata": {},
   "source": [
    "### Example - Converting a List of strings to uppercase"
   ]
  },
  {
   "cell_type": "code",
   "execution_count": 47,
   "id": "3217db66-8e7a-4ec2-9459-27e25f323578",
   "metadata": {},
   "outputs": [
    {
     "name": "stdout",
     "output_type": "stream",
     "text": [
      "['YUVRAJ', 'SACHDEVA', 'GOOGLE']\n"
     ]
    }
   ],
   "source": [
    "words = [\"Yuvraj\", \"Sachdeva\", \"Google\"]\n",
    "upper_words = [word.upper() for word in words]\n",
    "print(upper_words)"
   ]
  },
  {
   "cell_type": "markdown",
   "id": "552e80bb-481f-4f91-80f6-86e79585c13e",
   "metadata": {},
   "source": [
    "<hr>"
   ]
  },
  {
   "cell_type": "markdown",
   "id": "6f692b64-d7ea-4889-ad65-3e84fdc9fcd6",
   "metadata": {},
   "source": [
    "## 6. List Comprehension with Nested List Comprehension"
   ]
  },
  {
   "cell_type": "markdown",
   "id": "7bd2db4a-537a-4d0c-b939-c76ec51e5416",
   "metadata": {},
   "source": [
    "### Example - Flattening a 2D List"
   ]
  },
  {
   "cell_type": "code",
   "execution_count": 52,
   "id": "dbab477a-970f-474b-987e-e9b26a2f593c",
   "metadata": {},
   "outputs": [
    {
     "name": "stdout",
     "output_type": "stream",
     "text": [
      "[1, 2, 3, 4, 5, 6]\n"
     ]
    }
   ],
   "source": [
    "matrix = [[1, 2], [3, 4], [5, 6]]\n",
    "flattened = [num for row in matrix for num in row]\n",
    "print(flattened)"
   ]
  },
  {
   "cell_type": "markdown",
   "id": "ff643a0a-c5d0-4edf-8295-39c51984e322",
   "metadata": {},
   "source": [
    "<hr>"
   ]
  },
  {
   "cell_type": "markdown",
   "id": "14b954ce-c690-461d-b8c3-45c3c4411ad5",
   "metadata": {},
   "source": [
    "## 7. List Comprehension with Set and Dictionary Comprehensions"
   ]
  },
  {
   "cell_type": "markdown",
   "id": "6a18d72a-c30b-4af9-af29-94a0b2151c66",
   "metadata": {},
   "source": [
    "### Set Comprehension"
   ]
  },
  {
   "cell_type": "code",
   "execution_count": 57,
   "id": "3507f668-124f-419b-977a-4f4537079812",
   "metadata": {},
   "outputs": [
    {
     "name": "stdout",
     "output_type": "stream",
     "text": [
      "{1, 2, 3, 4}\n"
     ]
    }
   ],
   "source": [
    "unique_numbers = {x for x in [1, 2, 2, 3, 4, 4]}\n",
    "print(unique_numbers)"
   ]
  },
  {
   "cell_type": "markdown",
   "id": "920d94dd-ad7e-4a26-b2d2-9b2d30314e5a",
   "metadata": {},
   "source": [
    "### Dictionary Comprehension"
   ]
  },
  {
   "cell_type": "code",
   "execution_count": 60,
   "id": "e34076aa-5f9f-4cdc-bcb0-109481c884f9",
   "metadata": {},
   "outputs": [
    {
     "name": "stdout",
     "output_type": "stream",
     "text": [
      "{1: 1, 2: 4, 3: 9, 4: 16, 5: 25}\n"
     ]
    }
   ],
   "source": [
    "squared_dict = {x: x**2 for x in range(1, 6)}\n",
    "print(squared_dict)"
   ]
  },
  {
   "cell_type": "markdown",
   "id": "0066eda4-f201-47a6-b316-8a1696f7bd3e",
   "metadata": {},
   "source": [
    "<hr>"
   ]
  },
  {
   "cell_type": "markdown",
   "id": "27d89a8a-f6e2-46e6-880f-d1130c9fdd63",
   "metadata": {},
   "source": [
    "## When to use List Comprehension?"
   ]
  },
  {
   "cell_type": "markdown",
   "id": "4f3c3fcf-548c-4254-8617-c427e3ddd931",
   "metadata": {},
   "source": [
    "- When you need to create a List in a single line\n",
    "- When the logic is simple and readable\n",
    "- When you want to improve performance (faster than loops)"
   ]
  },
  {
   "cell_type": "markdown",
   "id": "c360ccb5-c8cc-4e92-aba2-cdfd617f9fe8",
   "metadata": {},
   "source": [
    "## When to not use List Comprehension?"
   ]
  },
  {
   "cell_type": "markdown",
   "id": "29d77c5c-9c00-4afa-9e04-bfb99dd608a4",
   "metadata": {},
   "source": [
    "- When the logic is too complex (use a standard loop instead for clarity)"
   ]
  },
  {
   "cell_type": "markdown",
   "id": "4f8f9871-65f2-4d95-9b35-f7e65e3d8a1a",
   "metadata": {},
   "source": [
    "<hr>"
   ]
  },
  {
   "cell_type": "markdown",
   "id": "243450ba-d68b-45f2-994a-29585d8547f8",
   "metadata": {},
   "source": [
    "## Performance Comparison - List Comprehension vs Loop"
   ]
  },
  {
   "cell_type": "code",
   "execution_count": 76,
   "id": "ff4702e4-2f88-4a88-915c-e1fe2de7c83e",
   "metadata": {},
   "outputs": [
    {
     "name": "stdout",
     "output_type": "stream",
     "text": [
      "Loop Time ->  0.40025973320007324\n",
      "List Comprehension time ->  0.23821496963500977\n"
     ]
    }
   ],
   "source": [
    "import time \n",
    "\n",
    "# Using a for loop\n",
    "start = time.time()\n",
    "squares_loop = []\n",
    "for x in range(10**6):\n",
    "    squares_loop.append(x**2)\n",
    "print(\"Loop Time -> \", (time.time() - start))\n",
    "\n",
    "# Using List Comprehension\n",
    "start = time.time()\n",
    "squares_comp = [x**2 for x in range(10**6)]\n",
    "print(\"List Comprehension time -> \", (time.time() - start))"
   ]
  }
 ],
 "metadata": {
  "kernelspec": {
   "display_name": "Python [conda env:base] *",
   "language": "python",
   "name": "conda-base-py"
  },
  "language_info": {
   "codemirror_mode": {
    "name": "ipython",
    "version": 3
   },
   "file_extension": ".py",
   "mimetype": "text/x-python",
   "name": "python",
   "nbconvert_exporter": "python",
   "pygments_lexer": "ipython3",
   "version": "3.12.7"
  }
 },
 "nbformat": 4,
 "nbformat_minor": 5
}
