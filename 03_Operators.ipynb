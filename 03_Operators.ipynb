{
 "cells": [
  {
   "cell_type": "markdown",
   "id": "299a6e01-2c9b-45dd-93e1-61d17151d52c",
   "metadata": {},
   "source": [
    "# Operators in python"
   ]
  },
  {
   "cell_type": "markdown",
   "id": "48aa3a6b-eb8b-4e65-9096-0e756f2ffbea",
   "metadata": {},
   "source": [
    "## 1. Arithmetic Operators"
   ]
  },
  {
   "cell_type": "markdown",
   "id": "a32a118c-9a50-4163-92db-f00eb211df96",
   "metadata": {},
   "source": [
    "Used for basic mathematical operations"
   ]
  },
  {
   "cell_type": "code",
   "execution_count": 4,
   "id": "b7dc8422-406f-4fc8-9518-8968e97313b7",
   "metadata": {},
   "outputs": [
    {
     "name": "stdout",
     "output_type": "stream",
     "text": [
      "15\n",
      "5\n",
      "50\n",
      "2.0\n",
      "2\n",
      "0\n",
      "100000\n"
     ]
    }
   ],
   "source": [
    "a = 10\n",
    "b = 5\n",
    "print(a + b) # Addition\n",
    "print(a - b) # Subtraction\n",
    "print(a * b) # Multiplication\n",
    "print(a / b) # Division\n",
    "print(a // b) # Floor Division\n",
    "print(a % b) # Modulus\n",
    "print(a ** b) # Exponential"
   ]
  },
  {
   "cell_type": "markdown",
   "id": "ccf74dbb-99ed-4dc4-97eb-e6cd18a95b1c",
   "metadata": {},
   "source": [
    "## 2. Comparison Operators "
   ]
  },
  {
   "cell_type": "markdown",
   "id": "7e80b683-8682-4eb4-9fbc-2d47a5cb6e8b",
   "metadata": {},
   "source": [
    "Compares values and returns true or false"
   ]
  },
  {
   "cell_type": "code",
   "execution_count": 7,
   "id": "560899fb-33e3-4cb2-b63e-9c5f32c96aa6",
   "metadata": {},
   "outputs": [
    {
     "name": "stdout",
     "output_type": "stream",
     "text": [
      "False\n",
      "True\n",
      "True\n",
      "False\n",
      "True\n",
      "False\n"
     ]
    }
   ],
   "source": [
    "y = 23\n",
    "k = 21\n",
    "print(y == k) # Equal to\n",
    "print(y != k) # Not Equal to\n",
    "print(y > k) # Greater than\n",
    "print(y < k) # Lesser than\n",
    "print(y >= k) # Greater or equal to\n",
    "print(y <= k) # Lesser or equal to"
   ]
  },
  {
   "cell_type": "markdown",
   "id": "14eea3c9-723e-4580-b0c5-283488bee830",
   "metadata": {},
   "source": [
    "## 3. Logical Operators"
   ]
  },
  {
   "cell_type": "markdown",
   "id": "5656bc29-adc1-4f53-bfd4-14b9677063bd",
   "metadata": {},
   "source": [
    "Used to combine conditional statements"
   ]
  },
  {
   "cell_type": "code",
   "execution_count": 10,
   "id": "aea93ba1-e8e1-410a-a2c8-3fafa908d313",
   "metadata": {},
   "outputs": [
    {
     "name": "stdout",
     "output_type": "stream",
     "text": [
      "True\n",
      "False\n",
      "True\n",
      "True\n",
      "False\n",
      "True\n"
     ]
    }
   ],
   "source": [
    "u = True\n",
    "v = True\n",
    "w = False\n",
    "print(u and v) # Both True (and)\n",
    "print(u and w)\n",
    "print(u or v) # Either one true (or)\n",
    "print(u or w)\n",
    "print(not u) # Negation\n",
    "print(not w)"
   ]
  },
  {
   "cell_type": "markdown",
   "id": "c7024025-5dc1-402c-a4ca-a4d2ecb69dca",
   "metadata": {},
   "source": [
    "## 4. Bitwise Operators"
   ]
  },
  {
   "cell_type": "markdown",
   "id": "d1d0242a-cd6b-4f2b-93d7-9fd85f7abe80",
   "metadata": {},
   "source": [
    "Perform bit-level operations"
   ]
  },
  {
   "cell_type": "code",
   "execution_count": 13,
   "id": "087e0c40-3848-4568-b988-50f73e3068f0",
   "metadata": {},
   "outputs": [
    {
     "name": "stdout",
     "output_type": "stream",
     "text": [
      "1\n",
      "7\n"
     ]
    }
   ],
   "source": [
    "a = 5 # 101\n",
    "b = 3 # 011\n",
    "print(a & b) # AND Bitwise Operator - 101 & 011 => 1 & 0 = 0; 0 & 1 = 0; 1 & 1 = 1 => 001 \n",
    "print(a | b) # OR Bitwise Operator - 101 | 011 => 1 | 0 = 1; 0 | 1 = 1; 1 | 1 = 1 => 111"
   ]
  },
  {
   "cell_type": "markdown",
   "id": "5c19df9c-f27c-4dec-8e05-94414462607f",
   "metadata": {},
   "source": [
    "## 5. Assignment Operators"
   ]
  },
  {
   "cell_type": "markdown",
   "id": "1a3058b4-4947-41b4-91c6-4698c3013b51",
   "metadata": {},
   "source": [
    "Used to assign the values to variables"
   ]
  },
  {
   "cell_type": "code",
   "execution_count": 16,
   "id": "0dec1618-31bd-4cbc-9e4b-881ca340aa6b",
   "metadata": {},
   "outputs": [
    {
     "name": "stdout",
     "output_type": "stream",
     "text": [
      "10\n",
      "15\n",
      "10\n",
      "50\n",
      "10.0\n",
      "2\n",
      "2\n",
      "32\n"
     ]
    }
   ],
   "source": [
    "l = 10\n",
    "print(l)\n",
    "l += 5\n",
    "print(l)\n",
    "l -= 5\n",
    "print(l)\n",
    "l *= 5\n",
    "print(l)\n",
    "l /= 5\n",
    "print(l)\n",
    "f = 10\n",
    "f //= 5\n",
    "print(f)\n",
    "f %= 5\n",
    "print(f)\n",
    "f **= 5\n",
    "print(f)"
   ]
  },
  {
   "cell_type": "markdown",
   "id": "eb96af5e-c9ce-4567-b83a-2c0e0321869e",
   "metadata": {},
   "source": [
    "## 6. Membership and Identity Operators"
   ]
  },
  {
   "cell_type": "markdown",
   "id": "939d82e3-fb65-446d-a2d6-b59c3411a72a",
   "metadata": {},
   "source": [
    "Checks for presence and object identity"
   ]
  },
  {
   "cell_type": "code",
   "execution_count": 19,
   "id": "48aa3058-0d7a-4f01-ad15-bc7a0c5f2059",
   "metadata": {},
   "outputs": [
    {
     "name": "stdout",
     "output_type": "stream",
     "text": [
      "True\n",
      "False\n",
      "True\n",
      "False\n",
      "False\n",
      "True\n"
     ]
    }
   ],
   "source": [
    "list = [1, 2, 3]\n",
    "x = 2\n",
    "print(x in list) # Checks for presence\n",
    "print(x not in list) # Checks for absence\n",
    "a = 7\n",
    "b = 7\n",
    "c = 10\n",
    "print(a is b)\n",
    "print(a is c)\n",
    "print(a is not b)\n",
    "print(a is not c)"
   ]
  }
 ],
 "metadata": {
  "kernelspec": {
   "display_name": "Python [conda env:base] *",
   "language": "python",
   "name": "conda-base-py"
  },
  "language_info": {
   "codemirror_mode": {
    "name": "ipython",
    "version": 3
   },
   "file_extension": ".py",
   "mimetype": "text/x-python",
   "name": "python",
   "nbconvert_exporter": "python",
   "pygments_lexer": "ipython3",
   "version": "3.12.7"
  }
 },
 "nbformat": 4,
 "nbformat_minor": 5
}
