{
 "cells": [
  {
   "cell_type": "markdown",
   "id": "a572098d-85da-48b4-8b97-c90c12a7c4f4",
   "metadata": {},
   "source": [
    "# PEMDAS (Parentheses -> Exponential -> Modulus/Multiplication/Division -> Addition/Subtraction)"
   ]
  },
  {
   "cell_type": "code",
   "execution_count": 5,
   "id": "f396cd16-da14-44a3-b748-4761aac2ea13",
   "metadata": {},
   "outputs": [
    {
     "name": "stdout",
     "output_type": "stream",
     "text": [
      "16\n"
     ]
    }
   ],
   "source": [
    "result = 10 + 2 * 3\n",
    "print(result)"
   ]
  },
  {
   "cell_type": "code",
   "execution_count": 13,
   "id": "7290eb65-1300-4f50-bc0e-318e23b40bad",
   "metadata": {},
   "outputs": [
    {
     "name": "stdout",
     "output_type": "stream",
     "text": [
      "36\n"
     ]
    }
   ],
   "source": [
    "result = (10 + 2) * 3\n",
    "print(result)"
   ]
  },
  {
   "cell_type": "code",
   "execution_count": 17,
   "id": "ab3550d3-4626-488f-8fa9-5295194e88da",
   "metadata": {},
   "outputs": [
    {
     "name": "stdout",
     "output_type": "stream",
     "text": [
      "512\n"
     ]
    }
   ],
   "source": [
    "result = 2 ** 3 ** 2 # Ambiguity of exponentiation goes right to left while ambguity of any other goes left to right\n",
    "print(result)"
   ]
  }
 ],
 "metadata": {
  "kernelspec": {
   "display_name": "Python [conda env:base] *",
   "language": "python",
   "name": "conda-base-py"
  },
  "language_info": {
   "codemirror_mode": {
    "name": "ipython",
    "version": 3
   },
   "file_extension": ".py",
   "mimetype": "text/x-python",
   "name": "python",
   "nbconvert_exporter": "python",
   "pygments_lexer": "ipython3",
   "version": "3.12.7"
  }
 },
 "nbformat": 4,
 "nbformat_minor": 5
}
