{
 "cells": [
  {
   "cell_type": "markdown",
   "id": "044755bb-76e7-4fd2-a2cb-e5dae9293854",
   "metadata": {
    "editable": true,
    "slideshow": {
     "slide_type": ""
    },
    "tags": []
   },
   "source": [
    "# Python Lists and List Methods"
   ]
  },
  {
   "cell_type": "markdown",
   "id": "73b699db-4fc4-45dc-a7b5-813706ea7be2",
   "metadata": {},
   "source": [
    "A List in python is ordered, mutable collection of elements. It can contain elements of different types."
   ]
  },
  {
   "cell_type": "markdown",
   "id": "88741e21-e44e-43c9-a43c-1bad1a983286",
   "metadata": {},
   "source": [
    "### Creating a List"
   ]
  },
  {
   "cell_type": "code",
   "execution_count": 4,
   "id": "944bec1f-0a7b-4383-b680-f2021d2fcee4",
   "metadata": {},
   "outputs": [
    {
     "name": "stdout",
     "output_type": "stream",
     "text": [
      "[]\n",
      "[1, 2, 3, 4, 5]\n",
      "[1, 'Yuvraj', 21.23, True]\n"
     ]
    }
   ],
   "source": [
    "my_empty_list = [] # Empty List\n",
    "my_list_with_same_elements = [1, 2, 3, 4, 5] # List with elements\n",
    "my_list_with_different_elements = [1, \"Yuvraj\", 21.23, True] # List with mixed datatypes\n",
    "print(my_empty_list)\n",
    "print(my_list_with_same_elements)\n",
    "print(my_list_with_different_elements)"
   ]
  },
  {
   "cell_type": "markdown",
   "id": "e833b7e9-2ae1-4f21-ab86-24087ab9577d",
   "metadata": {},
   "source": [
    "### Common List Methods"
   ]
  },
  {
   "cell_type": "code",
   "execution_count": 19,
   "id": "60bab397-d256-4459-8a62-ca7118758e9e",
   "metadata": {},
   "outputs": [
    {
     "name": "stdout",
     "output_type": "stream",
     "text": [
      "[21, 16, 5, 19, 23]\n",
      "[21, 16, 5, 19, 23, 9, 4, 8, 10]\n",
      "[21, 16, 5, 19, 23, 21, 9, 4, 8, 10]\n",
      "[21, 16, 5, 19, 23, 21, 4, 8, 10]\n",
      "[16, 5, 19, 23, 21, 4, 8, 10]\n",
      "3\n",
      "0\n",
      "1\n",
      "[4, 5, 8, 10, 16, 19, 21, 23]\n",
      "[16, 5, 19, 23, 21, 4, 8, 10]\n",
      "[4, 5, 8, 10, 16, 19, 21, 23]\n",
      "[23, 21, 19, 16, 10, 8, 5, 4]\n",
      "[23, 21, 19, 16, 10, 8, 5, 4]\n",
      "[]\n"
     ]
    }
   ],
   "source": [
    "l = [21, 16, 5, 19]\n",
    "\n",
    "# append(x) adds element x to the end of the List \n",
    "l.append(23)\n",
    "print(l)\n",
    "\n",
    "# extend(iterable) extends the List by appending all elements from an iterable\n",
    "l.extend([9, 4, 8, 10])\n",
    "print(l)\n",
    "\n",
    "# insert(index, x) inserts x at specified index\n",
    "l.insert(5, 21)\n",
    "print(l)\n",
    "\n",
    "# remove(x) removes the first occurence of x in the List\n",
    "l.remove(9)\n",
    "print(l)\n",
    "\n",
    "# pop([index]) removes and returns the element at index (last element if index is not provided)\n",
    "l.pop(0)\n",
    "print(l)\n",
    "\n",
    "# index(x) returns the index of the first occurence of x\n",
    "print(l.index(23))\n",
    "\n",
    "# count(x) returns the number of times x appears in the List\n",
    "print(l.count(23.21))\n",
    "print(l.count(5))\n",
    "\n",
    "# sorted(List) returns a new List which is sorted version of original List\n",
    "print(sorted(l))\n",
    "print(l)\n",
    "\n",
    "# sort() sorts the List in ascending order\n",
    "l.sort()\n",
    "print(l)\n",
    "\n",
    "# reverse() reverses the order of the List\n",
    "l.reverse()\n",
    "print(l)\n",
    "\n",
    "# copy() returns a shallow copy of the List\n",
    "nl = l.copy()\n",
    "print(nl)\n",
    "\n",
    "# clear() removes all the elements from the List\n",
    "l.clear()\n",
    "print(l)"
   ]
  },
  {
   "cell_type": "code",
   "execution_count": 21,
   "id": "9d2689cd-30e4-4fa5-9409-dfe57e2e3859",
   "metadata": {},
   "outputs": [
    {
     "name": "stdout",
     "output_type": "stream",
     "text": [
      "[21, 23]\n",
      "23\n"
     ]
    }
   ],
   "source": [
    "list_of_list = [1, 2, 3, 4, 5, [21, 23]]\n",
    "print(list_of_list[5])\n",
    "print(list_of_list[5][1])"
   ]
  },
  {
   "cell_type": "code",
   "execution_count": 25,
   "id": "c89a6aab-c73b-4927-996c-4a7797083840",
   "metadata": {},
   "outputs": [
    {
     "name": "stdout",
     "output_type": "stream",
     "text": [
      "[5, 16, 21, 23, 19]\n"
     ]
    }
   ],
   "source": [
    "l1 = [5, 16, 21]\n",
    "l2 = [23, 19]\n",
    "print(l1 + l2) # List concatenation"
   ]
  },
  {
   "cell_type": "code",
   "execution_count": 31,
   "id": "55f6ae76-73e7-4f4d-b7c7-23b6176a3a51",
   "metadata": {},
   "outputs": [
    {
     "name": "stdout",
     "output_type": "stream",
     "text": [
      "Yes\n"
     ]
    }
   ],
   "source": [
    "if(21 in l1): \n",
    "    print(\"Yes\")"
   ]
  },
  {
   "cell_type": "code",
   "execution_count": 33,
   "id": "82948ded-df44-4fd6-a14f-52fd774ddde7",
   "metadata": {},
   "outputs": [
    {
     "data": {
      "text/plain": [
       "['Yuvraj',\n",
       " 'Sachdeva',\n",
       " 'Will',\n",
       " 'Be',\n",
       " 'The',\n",
       " 'Greatest',\n",
       " 'Coder',\n",
       " 'Of',\n",
       " 'All',\n",
       " 'Time']"
      ]
     },
     "execution_count": 33,
     "metadata": {},
     "output_type": "execute_result"
    }
   ],
   "source": [
    "s = \"Yuvraj-Sachdeva-Will-Be-The-Greatest-Coder-Of-All-Time\"\n",
    "s.split(\"-\") # Splitting a string to a List"
   ]
  }
 ],
 "metadata": {
  "kernelspec": {
   "display_name": "Python [conda env:base] *",
   "language": "python",
   "name": "conda-base-py"
  },
  "language_info": {
   "codemirror_mode": {
    "name": "ipython",
    "version": 3
   },
   "file_extension": ".py",
   "mimetype": "text/x-python",
   "name": "python",
   "nbconvert_exporter": "python",
   "pygments_lexer": "ipython3",
   "version": "3.12.7"
  }
 },
 "nbformat": 4,
 "nbformat_minor": 5
}
