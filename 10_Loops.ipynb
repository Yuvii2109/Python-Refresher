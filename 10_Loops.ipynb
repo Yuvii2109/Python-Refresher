{
 "cells": [
  {
   "cell_type": "markdown",
   "id": "beee0cb4-eb83-4b19-9f51-5633ade6bcdf",
   "metadata": {},
   "source": [
    "# Loops in Python"
   ]
  },
  {
   "cell_type": "markdown",
   "id": "dcbceaba-534c-45a7-b785-d442a9c34c54",
   "metadata": {},
   "source": [
    "Python has 2 main loops - for and while"
   ]
  },
  {
   "cell_type": "markdown",
   "id": "55bb59b6-f4c9-4941-900f-29a6ef23d907",
   "metadata": {},
   "source": [
    "## 1. For Loop"
   ]
  },
  {
   "cell_type": "markdown",
   "id": "548d6be5-f4cb-438a-abda-fb33d367cb62",
   "metadata": {},
   "source": [
    "Used to iterate over sequences like lists, tuples and strings"
   ]
  },
  {
   "cell_type": "code",
   "execution_count": 5,
   "id": "262ca1fc-bcc9-4be1-91ee-db7fa9962491",
   "metadata": {},
   "outputs": [
    {
     "name": "stdout",
     "output_type": "stream",
     "text": [
      "apple\n",
      "banana\n",
      "cherry\n"
     ]
    }
   ],
   "source": [
    "fruits = [\"apple\", \"banana\", \"cherry\"]\n",
    "for fruit in fruits:\n",
    "    print(fruit)"
   ]
  },
  {
   "cell_type": "markdown",
   "id": "a08216ba-6d5e-48e9-a0b9-54ea2b3ab390",
   "metadata": {},
   "source": [
    "### Using range()"
   ]
  },
  {
   "cell_type": "code",
   "execution_count": 8,
   "id": "14766ad4-5846-4060-9e7c-22d5424ee4a3",
   "metadata": {},
   "outputs": [
    {
     "name": "stdout",
     "output_type": "stream",
     "text": [
      "0\n",
      "1\n",
      "2\n"
     ]
    }
   ],
   "source": [
    "for i in range(3):\n",
    "    print(i)"
   ]
  },
  {
   "cell_type": "markdown",
   "id": "7cd57efa-8c38-451f-9dcf-37da19fad188",
   "metadata": {},
   "source": [
    "## 2. While Loop"
   ]
  },
  {
   "cell_type": "markdown",
   "id": "a445338a-670f-4a08-9fce-e9d2ad880e22",
   "metadata": {
    "editable": true,
    "slideshow": {
     "slide_type": ""
    },
    "tags": []
   },
   "source": [
    "Runs as long as condition is True"
   ]
  },
  {
   "cell_type": "code",
   "execution_count": 13,
   "id": "b09189ca-269d-4ddd-a6b5-788cc1426182",
   "metadata": {},
   "outputs": [
    {
     "name": "stdout",
     "output_type": "stream",
     "text": [
      "0\n",
      "1\n",
      "2\n"
     ]
    }
   ],
   "source": [
    "count = 0\n",
    "while(count < 3):\n",
    "    print(count)\n",
    "    count += 1"
   ]
  },
  {
   "cell_type": "markdown",
   "id": "43893d84-0c70-46c8-be32-78feb049615b",
   "metadata": {},
   "source": [
    "## 3. Loop Control Statements"
   ]
  },
  {
   "cell_type": "markdown",
   "id": "87e649d5-d239-4348-b697-d1a18d2d6620",
   "metadata": {},
   "source": [
    "break -> Exits the loop,\n",
    "continue -> Skips to the next iteration,\n",
    "pass -> Does nothing (used as a placeholder)"
   ]
  },
  {
   "cell_type": "code",
   "execution_count": 23,
   "id": "e911e25a-d38a-41ad-85b7-432ece36071d",
   "metadata": {},
   "outputs": [
    {
     "name": "stdout",
     "output_type": "stream",
     "text": [
      "0\n",
      "1\n",
      "2\n"
     ]
    }
   ],
   "source": [
    "for i in range(3):\n",
    "    if(i == 3):\n",
    "        break # Loop breaks at i = 3\n",
    "    print(i)"
   ]
  },
  {
   "cell_type": "code",
   "execution_count": 27,
   "id": "ff245f67-446e-487e-9044-8119ac633789",
   "metadata": {},
   "outputs": [
    {
     "name": "stdout",
     "output_type": "stream",
     "text": [
      "Using pass\n"
     ]
    }
   ],
   "source": [
    "for item in fruits:\n",
    "    pass\n",
    "print(\"Using pass\")"
   ]
  },
  {
   "cell_type": "code",
   "execution_count": 29,
   "id": "9634678f-11bd-4e96-acee-8e7dd603593d",
   "metadata": {},
   "outputs": [
    {
     "name": "stdout",
     "output_type": "stream",
     "text": [
      "apple\n",
      "cherry\n"
     ]
    }
   ],
   "source": [
    "for item in fruits: \n",
    "    if(item == \"banana\"):\n",
    "        continue\n",
    "    print(item)"
   ]
  }
 ],
 "metadata": {
  "kernelspec": {
   "display_name": "Python [conda env:base] *",
   "language": "python",
   "name": "conda-base-py"
  },
  "language_info": {
   "codemirror_mode": {
    "name": "ipython",
    "version": 3
   },
   "file_extension": ".py",
   "mimetype": "text/x-python",
   "name": "python",
   "nbconvert_exporter": "python",
   "pygments_lexer": "ipython3",
   "version": "3.12.7"
  }
 },
 "nbformat": 4,
 "nbformat_minor": 5
}
