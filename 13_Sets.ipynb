{
 "cells": [
  {
   "cell_type": "markdown",
   "id": "03643dbc-41a0-4b55-95c0-e7b2980c463c",
   "metadata": {},
   "source": [
    "# Python Sets And Set Methods"
   ]
  },
  {
   "cell_type": "markdown",
   "id": "a039c6f2-cc88-409c-b903-90c18b7e0f6c",
   "metadata": {},
   "source": [
    "A Set in python is an unordered (indexing nahi kar sakte), mutable and unique collection of elements. It doesn't allow duplicate values."
   ]
  },
  {
   "cell_type": "markdown",
   "id": "3c0f2034-fa6a-4b70-b1fa-55f493baf75e",
   "metadata": {},
   "source": [
    "## Creating a Set"
   ]
  },
  {
   "cell_type": "code",
   "execution_count": 9,
   "id": "82a3d0f2-608a-434d-bcc7-817c834fd0cb",
   "metadata": {},
   "outputs": [
    {
     "name": "stdout",
     "output_type": "stream",
     "text": [
      "set()\n",
      "{1, 2, 3, 4, 5}\n",
      "{'Yuvraj', True, 21.23, 21}\n"
     ]
    }
   ],
   "source": [
    "empty_set = set() # Empty set - Must use set() and not {}\n",
    "# {} -> Yeh ek empty dictionary bana dega\n",
    "numbers = {1, 2, 3, 4, 5} # Set with elements\n",
    "mixed_set = {21, \"Yuvraj\", 21.23, True} # Set with mixed data types\n",
    "print(empty_set)\n",
    "print(numbers)\n",
    "print(mixed_set)"
   ]
  },
  {
   "cell_type": "code",
   "execution_count": 7,
   "id": "908d6590-e704-4622-aa83-29962b12fa34",
   "metadata": {},
   "outputs": [
    {
     "name": "stdout",
     "output_type": "stream",
     "text": [
      "{1, 2, 3, 4, 5, 6, 7}\n"
     ]
    }
   ],
   "source": [
    "# Creating a Set from a List\n",
    "unique_numbers = set([1, 2, 3, 4, 4, 5, 6, 7, 7])\n",
    "print(unique_numbers)"
   ]
  },
  {
   "cell_type": "markdown",
   "id": "e29cb4c2-a412-497c-8603-7c88b95ae5d8",
   "metadata": {},
   "source": [
    "## Common Set Methods"
   ]
  },
  {
   "cell_type": "code",
   "execution_count": 13,
   "id": "5176a206-33ac-445b-a49c-c462d601c34d",
   "metadata": {},
   "outputs": [
    {
     "name": "stdout",
     "output_type": "stream",
     "text": [
      "{1, 2, 3, 4, 5, 6}\n",
      "{1, 2, 3, 4, 5, 6, 7, 8, 9}\n",
      "{1, 2, 3, 4, 5, 6, 7, 8}\n",
      "{1, 2, 3, 4, 5, 6, 7, 8}\n",
      "1\n",
      "{2, 3, 4, 5, 6, 7, 8}\n",
      "{2, 3, 4, 5, 6, 7, 8}\n",
      "set()\n"
     ]
    }
   ],
   "source": [
    "s = {1, 2, 3, 4, 5}\n",
    "s.add(6)\n",
    "print(s)\n",
    "\n",
    "s.update([7, 8, 9])\n",
    "print(s)\n",
    "\n",
    "s.remove(9) # Removes the desired element and raises an error if the element not found\n",
    "print(s)\n",
    "\n",
    "s.discard(10) # Removes the desired element and doesn't raise an error is the element not found\n",
    "print(s)\n",
    "\n",
    "a = s.pop() # Removes and returns a random element\n",
    "print(a)\n",
    "print(s)\n",
    "\n",
    "y = s.copy() # Creates a shallow copy of the set\n",
    "print(y)\n",
    "\n",
    "y.clear() # Removes all the elements from the set\n",
    "print(y)"
   ]
  },
  {
   "cell_type": "markdown",
   "id": "522b8195-bcbf-4ab3-ac8e-005dd4715864",
   "metadata": {},
   "source": [
    "## Set Operations"
   ]
  },
  {
   "cell_type": "code",
   "execution_count": 18,
   "id": "6c0972b0-8450-4587-b8c1-9de97667efc1",
   "metadata": {},
   "outputs": [
    {
     "name": "stdout",
     "output_type": "stream",
     "text": [
      "{1, 2, 3, 4, 5, 6, 7, 8}\n",
      "{3, 4, 5}\n",
      "{1, 2}\n",
      "{1, 2, 6, 7, 8}\n",
      "True\n",
      "False\n",
      "False\n",
      "True\n"
     ]
    }
   ],
   "source": [
    "set1 = {1, 2, 3, 4, 5}\n",
    "set2 = {3, 4, 5, 6, 7, 8}\n",
    "set3 = set1.union(set2) # Returns a new set with all unique elements from both sets\n",
    "print(set3)\n",
    "\n",
    "set4 = set1.intersection(set2) # Returns a set with elements common to both sets\n",
    "print(set4)\n",
    "\n",
    "set5 = set1.difference(set2) # Returns a set with elements in set1 but not in set2\n",
    "print(set5)\n",
    "\n",
    "set6 = set1.symmetric_difference(set2) # Returns a set with elements in either set1 or set2, but not in both\n",
    "print(set6)\n",
    "\n",
    "set7 = {3, 4, 5, 6}\n",
    "print(set7.issubset(set2)) # Returns True if set7 is the subset of set2\n",
    "print(set7.issubset(set1))\n",
    "\n",
    "print(set1.issuperset(set7)) # Returns True if set1 is the superset of set7\n",
    "print(set2.issuperset(set7))"
   ]
  },
  {
   "cell_type": "code",
   "execution_count": 20,
   "id": "d76a0ea7-0893-4e5f-8d7b-7e66a339970e",
   "metadata": {},
   "outputs": [
    {
     "name": "stdout",
     "output_type": "stream",
     "text": [
      "{1, 2, 3, 4, 5, 6}\n",
      "{3, 4}\n",
      "{1, 2}\n",
      "{1, 2, 5, 6}\n"
     ]
    }
   ],
   "source": [
    "setA = {1, 2, 3, 4}\n",
    "setB = {3, 4, 5, 6}\n",
    "print(setA | setB) # Union\n",
    "print(setA & setB) # Intersection\n",
    "print(setA - setB) # Difference\n",
    "print(setA ^ setB) # Symmetric Difference"
   ]
  }
 ],
 "metadata": {
  "kernelspec": {
   "display_name": "Python [conda env:base] *",
   "language": "python",
   "name": "conda-base-py"
  },
  "language_info": {
   "codemirror_mode": {
    "name": "ipython",
    "version": 3
   },
   "file_extension": ".py",
   "mimetype": "text/x-python",
   "name": "python",
   "nbconvert_exporter": "python",
   "pygments_lexer": "ipython3",
   "version": "3.12.7"
  }
 },
 "nbformat": 4,
 "nbformat_minor": 5
}
