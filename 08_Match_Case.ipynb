{
 "cells": [
  {
   "cell_type": "markdown",
   "id": "65af5992-88e5-4f25-b2fe-37183aaaa03e",
   "metadata": {},
   "source": [
    "# Match-Case in Python"
   ]
  },
  {
   "cell_type": "code",
   "execution_count": 10,
   "id": "441bdc69-d722-48b4-b864-a6dca520b76b",
   "metadata": {},
   "outputs": [],
   "source": [
    "def http_status(code):\n",
    "    match code:\n",
    "        case 200:\n",
    "            return \"OK\"\n",
    "        case 400:\n",
    "            return \"Bad Request\"\n",
    "        case 404:\n",
    "            return \"Not Found\"\n",
    "        case 500:\n",
    "            return \"Internal Server Error\"\n",
    "        case _: # Underscore acts as a default case\n",
    "            return \"Unknown Case\""
   ]
  },
  {
   "cell_type": "code",
   "execution_count": 12,
   "id": "d12c2061-8375-4384-9a98-09d3d3a1bef9",
   "metadata": {},
   "outputs": [
    {
     "name": "stdout",
     "output_type": "stream",
     "text": [
      "OK\n",
      "Unknown Case\n",
      "Not Found\n"
     ]
    }
   ],
   "source": [
    "print(http_status(200))\n",
    "print(http_status(505))\n",
    "print(http_status(404))"
   ]
  }
 ],
 "metadata": {
  "kernelspec": {
   "display_name": "Python [conda env:base] *",
   "language": "python",
   "name": "conda-base-py"
  },
  "language_info": {
   "codemirror_mode": {
    "name": "ipython",
    "version": 3
   },
   "file_extension": ".py",
   "mimetype": "text/x-python",
   "name": "python",
   "nbconvert_exporter": "python",
   "pygments_lexer": "ipython3",
   "version": "3.12.7"
  }
 },
 "nbformat": 4,
 "nbformat_minor": 5
}
