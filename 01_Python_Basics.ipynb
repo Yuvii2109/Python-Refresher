{
 "cells": [
  {
   "cell_type": "markdown",
   "id": "671b8690-f473-422c-b127-205a1a1b706c",
   "metadata": {},
   "source": [
    "# Python is a dynamically typed object oriented programming language"
   ]
  },
  {
   "cell_type": "code",
   "execution_count": null,
   "id": "37707536-daad-46d7-bed4-10fc446bd621",
   "metadata": {},
   "outputs": [],
   "source": [
    "# Dynamically typed matlab hume datatypes define nahi karne padte"
   ]
  },
  {
   "cell_type": "code",
   "execution_count": 4,
   "id": "c4ce20ef-ba11-4f27-914b-078730d7375b",
   "metadata": {},
   "outputs": [],
   "source": [
    "y = 23"
   ]
  },
  {
   "cell_type": "code",
   "execution_count": 5,
   "id": "6a3ad00b-8be2-4f79-a191-c58a6a5b6760",
   "metadata": {},
   "outputs": [],
   "source": [
    "k = 21"
   ]
  },
  {
   "cell_type": "code",
   "execution_count": 6,
   "id": "a9959f31-1c46-4cf0-9536-1b4d3ee999db",
   "metadata": {},
   "outputs": [
    {
     "data": {
      "text/plain": [
       "44"
      ]
     },
     "execution_count": 6,
     "metadata": {},
     "output_type": "execute_result"
    }
   ],
   "source": [
    "y + k"
   ]
  },
  {
   "cell_type": "code",
   "execution_count": 7,
   "id": "704580d7-4143-4344-bb23-ace94aabf1e9",
   "metadata": {},
   "outputs": [],
   "source": [
    "str = \"Yuvraj Sachdeva\""
   ]
  },
  {
   "cell_type": "code",
   "execution_count": 8,
   "id": "42cd17a7-592d-433c-8276-1528e96ebb63",
   "metadata": {},
   "outputs": [
    {
     "name": "stdout",
     "output_type": "stream",
     "text": [
      "Yuvraj Sachdeva\n"
     ]
    }
   ],
   "source": [
    "print(str)"
   ]
  },
  {
   "cell_type": "code",
   "execution_count": 9,
   "id": "1a2bc203-ed47-4c04-aa7a-806b7b869c42",
   "metadata": {},
   "outputs": [],
   "source": [
    "# This is a comment"
   ]
  },
  {
   "cell_type": "code",
   "execution_count": 10,
   "id": "0f104f52-ac08-4a01-93c7-21cf53fc0e76",
   "metadata": {},
   "outputs": [
    {
     "name": "stdout",
     "output_type": "stream",
     "text": [
      "<class 'str'>\n"
     ]
    }
   ],
   "source": [
    "print(type(str))"
   ]
  },
  {
   "cell_type": "code",
   "execution_count": 11,
   "id": "5b7d3716-5fbf-49ce-8e11-5c1580fce211",
   "metadata": {},
   "outputs": [
    {
     "name": "stdout",
     "output_type": "stream",
     "text": [
      "<class 'int'>\n"
     ]
    }
   ],
   "source": [
    "print(type(y))"
   ]
  },
  {
   "cell_type": "code",
   "execution_count": 12,
   "id": "669e06d1-8a73-4c48-a900-5eb1167459cf",
   "metadata": {},
   "outputs": [
    {
     "name": "stdout",
     "output_type": "stream",
     "text": [
      "21.0\n"
     ]
    }
   ],
   "source": [
    "print(float(k)) # Type Casting "
   ]
  },
  {
   "cell_type": "code",
   "execution_count": 13,
   "id": "8d9e76ce-8eaa-4d05-89a2-960c152a400c",
   "metadata": {},
   "outputs": [
    {
     "data": {
      "text/plain": [
       "int"
      ]
     },
     "execution_count": 13,
     "metadata": {},
     "output_type": "execute_result"
    }
   ],
   "source": [
    "type(k)"
   ]
  },
  {
   "cell_type": "code",
   "execution_count": 14,
   "id": "1915d77c-eaad-4a69-824e-6627e112a146",
   "metadata": {},
   "outputs": [
    {
     "name": "stdout",
     "output_type": "stream",
     "text": [
      "2123\n"
     ]
    }
   ],
   "source": [
    "str1 = \"21\" \n",
    "str2 = \"23\"\n",
    "print(str1+str2) # Strings don't add up, they concatenate"
   ]
  },
  {
   "cell_type": "code",
   "execution_count": 29,
   "id": "228a67ac-6b7a-404f-9a17-33279249c65c",
   "metadata": {},
   "outputs": [
    {
     "name": "stdout",
     "output_type": "stream",
     "text": [
      "44\n"
     ]
    }
   ],
   "source": [
    "print(int(str1) + int(str2))"
   ]
  }
 ],
 "metadata": {
  "kernelspec": {
   "display_name": "Python [conda env:base] *",
   "language": "python",
   "name": "conda-base-py"
  },
  "language_info": {
   "codemirror_mode": {
    "name": "ipython",
    "version": 3
   },
   "file_extension": ".py",
   "mimetype": "text/x-python",
   "name": "python",
   "nbconvert_exporter": "python",
   "pygments_lexer": "ipython3",
   "version": "3.12.7"
  }
 },
 "nbformat": 4,
 "nbformat_minor": 5
}
