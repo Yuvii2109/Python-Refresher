{
 "cells": [
  {
   "cell_type": "markdown",
   "id": "496f8890-bba0-408c-b0fb-d12018a9aa4c",
   "metadata": {},
   "source": [
    "# Using If-Else-Elif"
   ]
  },
  {
   "cell_type": "code",
   "execution_count": 8,
   "id": "4314f7e4-23e6-4612-9607-9b7bce5351de",
   "metadata": {},
   "outputs": [
    {
     "name": "stdin",
     "output_type": "stream",
     "text": [
      "Enter your age -  20\n"
     ]
    },
    {
     "name": "stdout",
     "output_type": "stream",
     "text": [
      "You can apply for a driving license\n"
     ]
    }
   ],
   "source": [
    "a = int(input(\"Enter your age - \"))\n",
    "if(a >= 18 and a < 60):\n",
    "    print(\"You can apply for a driving license\")\n",
    "else:\n",
    "    print(\"You are not eligible for a driving license\")"
   ]
  },
  {
   "cell_type": "code",
   "execution_count": 16,
   "id": "67625b98-3dc2-4b1e-ae9b-a79256d8642c",
   "metadata": {},
   "outputs": [
    {
     "name": "stdin",
     "output_type": "stream",
     "text": [
      "Enter your percentage -  91.2\n"
     ]
    },
    {
     "name": "stdout",
     "output_type": "stream",
     "text": [
      "O grade\n"
     ]
    }
   ],
   "source": [
    "p = float(input(\"Enter your percentage - \"))\n",
    "if(p >= 90):\n",
    "    print(\"O grade\")\n",
    "elif(p >= 80):\n",
    "    print(\"A grade\")\n",
    "elif(p >= 70):\n",
    "    print(\"B grade\")\n",
    "elif(p >= 60):\n",
    "    print(\"C grade\")\n",
    "elif(p >= 50):\n",
    "    print(\"D grade\")\n",
    "else:\n",
    "    print(\"Better luck next time...\")"
   ]
  }
 ],
 "metadata": {
  "kernelspec": {
   "display_name": "Python [conda env:base] *",
   "language": "python",
   "name": "conda-base-py"
  },
  "language_info": {
   "codemirror_mode": {
    "name": "ipython",
    "version": 3
   },
   "file_extension": ".py",
   "mimetype": "text/x-python",
   "name": "python",
   "nbconvert_exporter": "python",
   "pygments_lexer": "ipython3",
   "version": "3.12.7"
  }
 },
 "nbformat": 4,
 "nbformat_minor": 5
}
