{
 "cells": [
  {
   "cell_type": "markdown",
   "id": "2f6b826b-2ac8-4e9a-90ce-75cc27b2036f",
   "metadata": {
    "editable": true,
    "slideshow": {
     "slide_type": ""
    },
    "tags": []
   },
   "source": [
    "# Python Tuples and Tuple Methods"
   ]
  },
  {
   "cell_type": "markdown",
   "id": "aa04f500-4305-4fde-8710-b17ff171c7ba",
   "metadata": {},
   "source": [
    "A Tuple is an ordered, immutable (Once created, elements cannot be changed) collection of elements. It is similar to List but once created, its elements cannot be modified. Accessing elements in a tuple is faster than in a list. Since Tuples are immutable, they can be used as keys in dictionaries."
   ]
  },
  {
   "cell_type": "markdown",
   "id": "c29e3105-871c-4524-bc7d-7c2afbe5e9e3",
   "metadata": {},
   "source": [
    "### Creating a Tuple"
   ]
  },
  {
   "cell_type": "code",
   "execution_count": 18,
   "id": "51dc1a94-f0a1-4e98-b352-f0e9a98d7df8",
   "metadata": {},
   "outputs": [
    {
     "name": "stdout",
     "output_type": "stream",
     "text": [
      "()\n",
      "(1, 2, 3, 4, 5)\n",
      "(1, 2, 23.21, 'Sachdeva', True)\n",
      "(23,)\n"
     ]
    }
   ],
   "source": [
    "empty_tuple = () # Empty Tuple\n",
    "tuple_with_same_elements = (1, 2, 3, 4, 5) # Tuple with elements\n",
    "tuple_with_different_elements = (1, 2, 23.21, \"Sachdeva\", True) # Tuple with Mixed elements\n",
    "tuple_with_single_element = (23, ) # Tuple with single element (Comma is necessary)\n",
    "print(empty_tuple)\n",
    "print(tuple_with_same_elements)\n",
    "print(tuple_with_different_elements)\n",
    "print(tuple_with_single_element)"
   ]
  },
  {
   "cell_type": "markdown",
   "id": "5981b411-21db-4384-b0b2-ae1992513130",
   "metadata": {},
   "source": [
    "### Accessing Tuple Elements"
   ]
  },
  {
   "cell_type": "code",
   "execution_count": 2,
   "id": "0a638f59-8d5b-40f6-a057-89aab786d0ba",
   "metadata": {},
   "outputs": [
    {
     "name": "stdout",
     "output_type": "stream",
     "text": [
      "20\n",
      "(10, 20, 30)\n"
     ]
    }
   ],
   "source": [
    "my_tuple = (10, 20, 30, 40)\n",
    "print(my_tuple[1])\n",
    "print(my_tuple[0:3])"
   ]
  },
  {
   "cell_type": "markdown",
   "id": "8dd501a9-4921-4f3e-8d5e-bc892bd495f1",
   "metadata": {},
   "source": [
    "## Tuple Packing And Unpacking"
   ]
  },
  {
   "cell_type": "code",
   "execution_count": 6,
   "id": "fc45a283-a710-45e6-b86e-c206dbf4b50a",
   "metadata": {},
   "outputs": [
    {
     "name": "stdout",
     "output_type": "stream",
     "text": [
      "Yuvraj\n",
      "21\n",
      "Engineer\n"
     ]
    }
   ],
   "source": [
    "person = (\"Yuvraj\", 21, \"Engineer\") # Packing\n",
    "name, age, profession = person # Unpacking\n",
    "print(name)\n",
    "print(age)\n",
    "print(profession)"
   ]
  },
  {
   "cell_type": "markdown",
   "id": "38c5e08b-3c72-4809-91ae-d7d022ba4807",
   "metadata": {},
   "source": [
    "## When to Use Tuples ?"
   ]
  },
  {
   "cell_type": "markdown",
   "id": "a59c764c-df62-4085-9b3e-bf4391f72bf2",
   "metadata": {},
   "source": [
    "1. When you want an unchangeable collection of elements.\n",
    "2. When you need a faster alternative to lists.\n",
    "3. When storing heterogeneous data."
   ]
  }
 ],
 "metadata": {
  "kernelspec": {
   "display_name": "Python [conda env:base] *",
   "language": "python",
   "name": "conda-base-py"
  },
  "language_info": {
   "codemirror_mode": {
    "name": "ipython",
    "version": 3
   },
   "file_extension": ".py",
   "mimetype": "text/x-python",
   "name": "python",
   "nbconvert_exporter": "python",
   "pygments_lexer": "ipython3",
   "version": "3.12.7"
  }
 },
 "nbformat": 4,
 "nbformat_minor": 5
}
