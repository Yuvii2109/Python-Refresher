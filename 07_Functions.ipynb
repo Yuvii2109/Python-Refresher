{
 "cells": [
  {
   "cell_type": "markdown",
   "id": "7cf9c989-f9fa-4fc9-9953-46c0d88ec13a",
   "metadata": {},
   "source": [
    "# Functions"
   ]
  },
  {
   "cell_type": "code",
   "execution_count": 8,
   "id": "12cbd75d-88b4-4e71-8fc1-97366bc387e5",
   "metadata": {},
   "outputs": [],
   "source": [
    "def add(a, b):\n",
    "    return a + b"
   ]
  },
  {
   "cell_type": "code",
   "execution_count": 6,
   "id": "72d3793d-a98a-42a4-9c2f-93a9cdbbc6c6",
   "metadata": {},
   "outputs": [
    {
     "data": {
      "text/plain": [
       "44"
      ]
     },
     "execution_count": 6,
     "metadata": {},
     "output_type": "execute_result"
    }
   ],
   "source": [
    "add(21, 23)"
   ]
  },
  {
   "cell_type": "code",
   "execution_count": 12,
   "id": "4a25a219-31d8-47ff-8f20-7917ea3c8852",
   "metadata": {},
   "outputs": [],
   "source": [
    "def avg(a = 0, b = 0): # Setting up default values in case no input is given \n",
    "    return (a + b)/2"
   ]
  },
  {
   "cell_type": "code",
   "execution_count": 14,
   "id": "0989a2c9-2ca7-439c-80a7-8a373fb5d8d5",
   "metadata": {},
   "outputs": [
    {
     "data": {
      "text/plain": [
       "22.0"
      ]
     },
     "execution_count": 14,
     "metadata": {},
     "output_type": "execute_result"
    }
   ],
   "source": [
    "avg(21, 23)"
   ]
  },
  {
   "cell_type": "code",
   "execution_count": 16,
   "id": "f2e842d0-9128-4e49-a12c-58766f3836d0",
   "metadata": {},
   "outputs": [
    {
     "data": {
      "text/plain": [
       "11.5"
      ]
     },
     "execution_count": 16,
     "metadata": {},
     "output_type": "execute_result"
    }
   ],
   "source": [
    "avg(23)"
   ]
  },
  {
   "cell_type": "markdown",
   "id": "a13e26c2-80b7-4e53-b755-fc68e9905321",
   "metadata": {},
   "source": [
    "Default arguments last main hi exist krne chahiye"
   ]
  },
  {
   "cell_type": "markdown",
   "id": "a9b00be7-c851-4d78-a6a3-2c6266fcfff1",
   "metadata": {},
   "source": [
    "Initially hi default arguments set nahi karne "
   ]
  },
  {
   "cell_type": "markdown",
   "id": "b070448b-543f-4dca-807e-667ceffa47b2",
   "metadata": {},
   "source": [
    "None python main ek object hota hai jo yeh denote krne ke liye use hota hai ki kuch bhi return nahi ho rha hai"
   ]
  },
  {
   "cell_type": "code",
   "execution_count": 23,
   "id": "978f962b-29af-4186-a832-a39c5df96f9b",
   "metadata": {},
   "outputs": [],
   "source": [
    "def greet():\n",
    "    print(\"Hello World\")"
   ]
  },
  {
   "cell_type": "code",
   "execution_count": 25,
   "id": "431c2884-e219-4987-afad-1a0550b088d0",
   "metadata": {},
   "outputs": [
    {
     "name": "stdout",
     "output_type": "stream",
     "text": [
      "Hello World\n"
     ]
    }
   ],
   "source": [
    "greet()"
   ]
  }
 ],
 "metadata": {
  "kernelspec": {
   "display_name": "Python [conda env:base] *",
   "language": "python",
   "name": "conda-base-py"
  },
  "language_info": {
   "codemirror_mode": {
    "name": "ipython",
    "version": 3
   },
   "file_extension": ".py",
   "mimetype": "text/x-python",
   "name": "python",
   "nbconvert_exporter": "python",
   "pygments_lexer": "ipython3",
   "version": "3.12.7"
  }
 },
 "nbformat": 4,
 "nbformat_minor": 5
}
