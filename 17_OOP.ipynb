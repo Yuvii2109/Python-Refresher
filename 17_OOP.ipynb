{
 "cells": [
  {
   "cell_type": "markdown",
   "id": "f6933d52-021e-4376-aa7e-dd9f4815ddd7",
   "metadata": {},
   "source": [
    "# Object Oriented Programming"
   ]
  },
  {
   "cell_type": "markdown",
   "id": "ab353360-55e6-461e-8d41-98a9c1b0c62c",
   "metadata": {},
   "source": [
    "Object-Oriented Programming (OOP) is a programming paradigm that organizes code into objects that contain both data (attributes) and behavior (methods)."
   ]
  },
  {
   "cell_type": "markdown",
   "id": "b9c4340d-27a1-4a30-ad53-9507ab2d41f2",
   "metadata": {},
   "source": [
    "## Key concepts of OOP  \n",
    "<b>Class</b> - A blueprint for creating objects. <br>\n",
    "<b>Object</b> - An instance of a class with specific data and behavior. <br>\n",
    "<b>Attributes</b> - Variables that store data for an object. <br>\n",
    "<b>Methods</b> - Functions inside a class that define object behavior. <br>\n",
    "<b>Encapsulation</b> -\tRestricting direct access to an object's data. <br>\n",
    "<b>Inheritance</b> - Creating a new class from an existing class. <br>\n",
    "<b>Polymorphism</b> - Using the same method name for different classes.\n",
    "<hr>\n",
    "\n",
    "## 1. Defining a Class and Creating an Object\n",
    "### Creating a Class"
   ]
  },
  {
   "cell_type": "code",
   "execution_count": 3,
   "id": "a1297015-08b0-4c32-9bf4-49c01be554ee",
   "metadata": {},
   "outputs": [
    {
     "name": "stdout",
     "output_type": "stream",
     "text": [
      "Mini, Cooper\n"
     ]
    }
   ],
   "source": [
    "class Car:\n",
    "    def __init__(self, brand, model):\n",
    "        self.brand = brand\n",
    "        self.model = model\n",
    "    def display_info(self):\n",
    "        return f\"{self.brand}, {self.model}\"\n",
    "\n",
    "# Creating an object (Instance)\n",
    "car1 = Car(\"Mini\", \"Cooper\")\n",
    "print(car1.display_info())"
   ]
  },
  {
   "cell_type": "markdown",
   "id": "e1e1fd9d-1bec-4af7-b084-ebf30a4a5ced",
   "metadata": {},
   "source": [
    "<hr>"
   ]
  },
  {
   "cell_type": "markdown",
   "id": "fc5658be-bbea-4390-aa40-0a7643c7395d",
   "metadata": {},
   "source": [
    "## 2. Encapsulation (Data Hiding)\n",
    "Encapsulation prevents direct modification of attributes and allows controlled access using getter and setter methods."
   ]
  },
  {
   "cell_type": "code",
   "execution_count": 8,
   "id": "0905365c-7476-46e5-81c6-b99229cbc1fb",
   "metadata": {},
   "outputs": [
    {
     "name": "stdout",
     "output_type": "stream",
     "text": [
      "6000\n"
     ]
    }
   ],
   "source": [
    "class BankAccount: \n",
    "    def __init__(self, balance):\n",
    "        self.balance = balance \n",
    "    def get_balance(self):\n",
    "        return self.balance\n",
    "    def deposit(self, amount):\n",
    "        if(amount > 0):\n",
    "            self.balance += amount\n",
    "# Using Encapsulation \n",
    "account = BankAccount(1000)\n",
    "account.deposit(5000)\n",
    "print(account.get_balance())"
   ]
  },
  {
   "cell_type": "markdown",
   "id": "38b6ed05-ae7c-4a49-b1dd-9a49252f0fdf",
   "metadata": {},
   "source": [
    "### Why use encapsulation?\n",
    "It protects data by restricting direct modification."
   ]
  },
  {
   "cell_type": "markdown",
   "id": "99fc2796-835d-4f06-a4d7-b224d913262d",
   "metadata": {},
   "source": [
    "<hr>"
   ]
  },
  {
   "cell_type": "markdown",
   "id": "89820401-90f5-4852-b47e-fe021698b64f",
   "metadata": {},
   "source": [
    "## 3. Inheritance (Reusing Code)\n",
    "Inheritance allows a class (child) to inherit attributes and methods from another class (parent).\n",
    "### Example of Single Inheritance"
   ]
  },
  {
   "cell_type": "code",
   "execution_count": 15,
   "id": "7a7da634-936b-4789-88c9-762ca21a50f8",
   "metadata": {},
   "outputs": [
    {
     "name": "stdout",
     "output_type": "stream",
     "text": [
      "Bark\n"
     ]
    }
   ],
   "source": [
    "class Animal:\n",
    "    def speak(self):\n",
    "        return \"Animal makes a sound\"\n",
    "class Dog(Animal): # Inheriting from Animal\n",
    "    def speak(self):\n",
    "        return \"Bark\"\n",
    "dog = Dog()\n",
    "print(dog.speak())"
   ]
  },
  {
   "cell_type": "markdown",
   "id": "bde3cb33-e1b1-478d-bd0f-008a055a8b98",
   "metadata": {},
   "source": [
    "### Why use inheritance?\n",
    "It promotes code reusability and maintains a cleaner code structure."
   ]
  },
  {
   "cell_type": "markdown",
   "id": "386dada5-1fa1-4c9d-8d90-9874df54fdac",
   "metadata": {},
   "source": [
    "### Example of Multiple Inheritance\n",
    "A class can inherit from multiple parent classes."
   ]
  },
  {
   "cell_type": "code",
   "execution_count": 22,
   "id": "374d9578-025f-457f-b851-a6d0635a2b0b",
   "metadata": {},
   "outputs": [
    {
     "name": "stdout",
     "output_type": "stream",
     "text": [
      "Method A\n",
      "Method B\n"
     ]
    }
   ],
   "source": [
    "class A: \n",
    "    def method_a(self):\n",
    "        return \"Method A\"\n",
    "class B:\n",
    "    def method_b(self):\n",
    "        return \"Method B\"\n",
    "class C(A, B): # Multiple Inheritance\n",
    "    pass\n",
    "obj = C()\n",
    "print(obj.method_a())\n",
    "print(obj.method_b())"
   ]
  },
  {
   "cell_type": "markdown",
   "id": "8641de8d-1ade-443d-9708-a324b86f842f",
   "metadata": {},
   "source": [
    "### Why use multiple inheritance?\n",
    "It allows a class to inherit features from multiple parent classes."
   ]
  },
  {
   "cell_type": "markdown",
   "id": "234b8744-6f42-4375-93ac-6ee319a1d638",
   "metadata": {},
   "source": [
    "<hr>"
   ]
  },
  {
   "cell_type": "markdown",
   "id": "68d05bad-ce4b-4184-a040-d5c24da6e5c8",
   "metadata": {},
   "source": [
    "## 4. Polymorphism (Same Method, Different Behavior)\n",
    "Polymorphism allows different classes to use the same method name.\n",
    "### Method Overriding Example\n"
   ]
  },
  {
   "cell_type": "code",
   "execution_count": 28,
   "id": "c3afc112-5afe-414f-8039-069dc1aafcd7",
   "metadata": {},
   "outputs": [
    {
     "name": "stdout",
     "output_type": "stream",
     "text": [
      "Birds can fly\n",
      "Penguins can't fly\n"
     ]
    }
   ],
   "source": [
    "class Bird:\n",
    "    def fly(self):\n",
    "        return \"Birds can fly\"\n",
    "class Penguin(Bird):\n",
    "    def fly(self):\n",
    "        return \"Penguins can't fly\"\n",
    "bird = Bird()\n",
    "penguin = Penguin()\n",
    "print(bird.fly())\n",
    "print(penguin.fly())"
   ]
  },
  {
   "cell_type": "markdown",
   "id": "ae52b921-639e-4301-905b-127ffa3529fd",
   "metadata": {},
   "source": [
    "### Why use polymorphism?\n",
    "It provides flexibility by allowing different classes to define the same method differently."
   ]
  },
  {
   "cell_type": "markdown",
   "id": "645e6381-42d8-45da-a1aa-969becc59231",
   "metadata": {},
   "source": [
    "<hr>"
   ]
  },
  {
   "cell_type": "markdown",
   "id": "899750ef-eb49-4e04-8a95-182c6ff2ae13",
   "metadata": {},
   "source": [
    "## 5. Abstraction (Hiding Implementation Details)\n",
    "Abstraction is used to define a method without implementing it in the base class.\n",
    "It is achieved using abstract base classes (ABC module)."
   ]
  },
  {
   "cell_type": "code",
   "execution_count": 39,
   "id": "0a6ba1fb-7a16-4490-a68c-ac471a52ecfb",
   "metadata": {},
   "outputs": [
    {
     "name": "stdout",
     "output_type": "stream",
     "text": [
      "16\n"
     ]
    }
   ],
   "source": [
    "from abc import ABC, abstractmethod # Importing abstract base classes module\n",
    "\n",
    "class Shape(ABC):\n",
    "    @abstractmethod\n",
    "    def area(self):\n",
    "        pass # No implementation\n",
    "class Square(Shape):\n",
    "    def __init__(self, side):\n",
    "        self.side = side\n",
    "    def area(self):\n",
    "        return self.side * self.side # Implemented in child class\n",
    "square = Square(4)\n",
    "print(square.area())"
   ]
  },
  {
   "cell_type": "markdown",
   "id": "915715be-8e9c-4a36-8e57-18369a76560a",
   "metadata": {},
   "source": [
    "### Why use abstraction?\n",
    "It enforces consistent implementation across child classes."
   ]
  },
  {
   "cell_type": "markdown",
   "id": "9c35e468-3a66-4a8f-9327-dac5b4470e09",
   "metadata": {},
   "source": [
    "<hr>"
   ]
  },
  {
   "cell_type": "markdown",
   "id": "fc01bdb0-ec5e-4705-b2c4-d07e51f8a7ad",
   "metadata": {},
   "source": [
    "## 6. Magic Methods (Dunder Methods)\n",
    "Magic methods allow objects to behave like built-in types."
   ]
  },
  {
   "cell_type": "code",
   "execution_count": 50,
   "id": "2d67d7da-443b-495d-84d5-fcc55e03346f",
   "metadata": {},
   "outputs": [
    {
     "name": "stdout",
     "output_type": "stream",
     "text": [
      "Book - Object Oriented Programming\n",
      "7\n"
     ]
    }
   ],
   "source": [
    "# Example - __str__() and __len__()\n",
    "class Book:\n",
    "    def __init__(self, title, pages):\n",
    "        self.title = title\n",
    "        self.pages = pages\n",
    "    def __str__(self): # String representation\n",
    "        return f\"Book - {self.title}\"\n",
    "    def __len__(self): # Define behaviour for len()\n",
    "        return self.pages\n",
    "\n",
    "book = Book(\"Object Oriented Programming\", 7)\n",
    "print(str(book))\n",
    "print(len(book))"
   ]
  },
  {
   "cell_type": "markdown",
   "id": "abec9779-34f7-4439-82b4-5a337fa56a6a",
   "metadata": {},
   "source": [
    "<hr>"
   ]
  },
  {
   "cell_type": "markdown",
   "id": "4f70a489-3a5b-432d-8740-76a51ada476a",
   "metadata": {},
   "source": [
    "## 7. Class vs Static Methods\n",
    "__Instance Method__ - Works with instance attributes (Uses self and not cls) <br>\n",
    "__Class Method__ - Works with class attributes (Uses cls and not self) <br>\n",
    "__Static Method__ - Does not use class or instance variables (Uses neither cls nor self)"
   ]
  },
  {
   "cell_type": "code",
   "execution_count": 56,
   "id": "26989fd6-c09e-4378-adf9-cfa4100513dc",
   "metadata": {},
   "outputs": [
    {
     "name": "stdout",
     "output_type": "stream",
     "text": [
      "Instance Method\n",
      "I am a class variable\n",
      "Static Method\n"
     ]
    }
   ],
   "source": [
    "class Example:\n",
    "    class_var = \"I am a class variable\"\n",
    "\n",
    "    def instance_method(self):\n",
    "        return \"Instance Method\"\n",
    "\n",
    "    @classmethod\n",
    "    def class_method(cls):\n",
    "        return cls.class_var\n",
    "\n",
    "    @staticmethod\n",
    "    def static_method():\n",
    "        return \"Static Method\"\n",
    "\n",
    "obj = Example()\n",
    "print(obj.instance_method())\n",
    "print(Example.class_method())\n",
    "print(Example.static_method())"
   ]
  },
  {
   "cell_type": "markdown",
   "id": "c52d702b-c1a9-4321-b735-da205b1dcc38",
   "metadata": {},
   "source": [
    "<hr>"
   ]
  },
  {
   "cell_type": "code",
   "execution_count": 9,
   "id": "d3ce1ed2-1a14-422f-94ce-bc60ed0559a1",
   "metadata": {},
   "outputs": [
    {
     "name": "stdout",
     "output_type": "stream",
     "text": [
      "The company of Yuvraj is Google with salary - 4500000\n",
      "The time is now\n",
      "The company is Google\n"
     ]
    }
   ],
   "source": [
    "class Employee:\n",
    "    company = \"Google\"\n",
    "    def __init__(self, name, salary): # Creating a constructor\n",
    "        self.name = name\n",
    "        self.salary = salary\n",
    "        \n",
    "    def printDetails(self):\n",
    "        print(f\"The company of {self.name} is {self.company} with salary - {self.salary}\")\n",
    "\n",
    "    @staticmethod\n",
    "    def printTime():\n",
    "        print(f\"The time is now\")\n",
    "\n",
    "    @classmethod\n",
    "    def printClassDetails(cls):\n",
    "        print(f\"The company is {cls.company}\")\n",
    "\n",
    "e = Employee(\"Yuvraj\", 4500000) # Object of Employee class\n",
    "e.printDetails()\n",
    "e.printTime()\n",
    "e.printClassDetails()"
   ]
  }
 ],
 "metadata": {
  "kernelspec": {
   "display_name": "Python [conda env:base] *",
   "language": "python",
   "name": "conda-base-py"
  },
  "language_info": {
   "codemirror_mode": {
    "name": "ipython",
    "version": 3
   },
   "file_extension": ".py",
   "mimetype": "text/x-python",
   "name": "python",
   "nbconvert_exporter": "python",
   "pygments_lexer": "ipython3",
   "version": "3.12.7"
  }
 },
 "nbformat": 4,
 "nbformat_minor": 5
}
