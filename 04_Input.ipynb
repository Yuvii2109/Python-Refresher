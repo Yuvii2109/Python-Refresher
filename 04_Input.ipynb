{
 "cells": [
  {
   "cell_type": "markdown",
   "id": "14910280-9bac-447b-8b23-fda187886c76",
   "metadata": {},
   "source": [
    "# Taking Input from User"
   ]
  },
  {
   "cell_type": "code",
   "execution_count": 4,
   "id": "35622c6f-d4cd-4717-bc94-65c5903a0312",
   "metadata": {},
   "outputs": [
    {
     "name": "stdin",
     "output_type": "stream",
     "text": [
      "Enter the value of x -  21\n",
      "Enter the value of y -  23\n"
     ]
    },
    {
     "name": "stdout",
     "output_type": "stream",
     "text": [
      "2123\n"
     ]
    }
   ],
   "source": [
    "x = input(\"Enter the value of x - \")\n",
    "y = input(\"Enter the value of y - \")\n",
    "print(x + y)"
   ]
  },
  {
   "cell_type": "markdown",
   "id": "9aaa4a70-f6ab-47db-b873-25a8a02164be",
   "metadata": {},
   "source": [
    "Aisa isliye hua kyuki inputs by default are always stored in the form of strings"
   ]
  },
  {
   "cell_type": "markdown",
   "id": "d857901f-3654-4a45-912f-6b0e655201f4",
   "metadata": {},
   "source": [
    "In order to store them as integers or any other datatype we must do the following - "
   ]
  },
  {
   "cell_type": "code",
   "execution_count": 10,
   "id": "086df875-cf23-4730-b65d-9d3f46ac5246",
   "metadata": {},
   "outputs": [
    {
     "name": "stdin",
     "output_type": "stream",
     "text": [
      "Enter the value of y -  23\n",
      "Enter the value of k -  21\n"
     ]
    },
    {
     "name": "stdout",
     "output_type": "stream",
     "text": [
      "44\n"
     ]
    }
   ],
   "source": [
    "y = int(input(\"Enter the value of y - \")) # TypeCasting string to int\n",
    "k = int(input(\"Enter the value of k - \")) # TypeCasting string to int\n",
    "print(y + k)"
   ]
  }
 ],
 "metadata": {
  "kernelspec": {
   "display_name": "Python [conda env:base] *",
   "language": "python",
   "name": "conda-base-py"
  },
  "language_info": {
   "codemirror_mode": {
    "name": "ipython",
    "version": 3
   },
   "file_extension": ".py",
   "mimetype": "text/x-python",
   "name": "python",
   "nbconvert_exporter": "python",
   "pygments_lexer": "ipython3",
   "version": "3.12.7"
  }
 },
 "nbformat": 4,
 "nbformat_minor": 5
}
